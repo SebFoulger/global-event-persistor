{
 "cells": [
  {
   "cell_type": "markdown",
   "source": [
    "# Using a BERT model finetuned for financial headlines"
   ],
   "metadata": {}
  },
  {
   "cell_type": "code",
   "execution_count": 1,
   "source": [
    "# Imoprts\n",
    "from newsplease import NewsPlease\n",
    "import requests\n",
    "from bs4 import BeautifulSoup\n",
    "import unidecode\n",
    "import json\n",
    "import re\n",
    "import numpy as np \n",
    "import matplotlib.pyplot as plt"
   ],
   "outputs": [],
   "metadata": {}
  },
  {
   "cell_type": "code",
   "execution_count": 2,
   "source": [
    "# Get news from Coinmarketcap\n",
    "def get_news(num = 200):\n",
    "    num_pages = num/200\n",
    "    num_remaining = num\n",
    "    news_data = []\n",
    "    page = 1\n",
    "    while num_remaining > 0:\n",
    "        to_get = min(num_remaining, 200)\n",
    "        url = f\"https://api.coinmarketcap.com/content/v3/news?&page={page}&size={to_get}\"\n",
    "        res = requests.get(url)\n",
    "        news_data += json.loads(res.text)['data']\n",
    "        num_remaining -= to_get\n",
    "        page += 1\n",
    "    return news_data"
   ],
   "outputs": [],
   "metadata": {}
  },
  {
   "cell_type": "code",
   "execution_count": 3,
   "source": [
    "# Get sentiment from BERT model\n",
    "def prepare_text(text):\n",
    "    return unidecode.unidecode(text.strip())\n",
    "\n",
    "def get_sentiment(texts, url = 'http://127.0.0.1:8080/finbert'):\n",
    "    js = { 'texts': texts }\n",
    "    res = requests.post(url, json = js)\n",
    "    return res.json()['ans']\n",
    "\n",
    "def get_tweet_sentiment(tweet):\n",
    "    sent = get_sentiment(tweet['text'])\n",
    "    return sent"
   ],
   "outputs": [],
   "metadata": {}
  },
  {
   "cell_type": "code",
   "execution_count": 34,
   "source": [
    "news = get_news(1000)\n",
    "print(len(news))"
   ],
   "outputs": [
    {
     "output_type": "stream",
     "name": "stdout",
     "text": [
      "1000\n"
     ]
    }
   ],
   "metadata": {}
  },
  {
   "cell_type": "code",
   "execution_count": 35,
   "source": [
    "news_title_sub = [x['meta']['title'] + '. ' + x['meta']['subtitle'] for x in news]"
   ],
   "outputs": [],
   "metadata": {}
  },
  {
   "cell_type": "code",
   "execution_count": 45,
   "source": [
    "sents = get_sentiment(news_title_sub[:100])\n",
    "sents = np.array(sents)"
   ],
   "outputs": [],
   "metadata": {}
  },
  {
   "cell_type": "code",
   "execution_count": 38,
   "source": [
    "colors = ['positive', 'negative', 'neutral']\n",
    "plt.hist(sents[:, [0, 1]], histtype = 'bar', stacked=True, label = colors)\n",
    "plt.legend()"
   ],
   "outputs": [
    {
     "output_type": "execute_result",
     "data": {
      "text/plain": [
       "<matplotlib.legend.Legend at 0x7f67cb571910>"
      ]
     },
     "metadata": {},
     "execution_count": 38
    },
    {
     "output_type": "display_data",
     "data": {
      "image/png": "[encoded data removed]",
      "text/plain": [
       "<Figure size 432x288 with 1 Axes>"
      ]
     },
     "metadata": {
      "needs_background": "light"
     }
    }
   ],
   "metadata": {}
  },
  {
   "cell_type": "code",
   "execution_count": 39,
   "source": [
    "plt.hist(sents[:, 0] - sents[:, 1], histtype = 'bar')\n",
    "plt.legend()"
   ],
   "outputs": [
    {
     "output_type": "stream",
     "name": "stderr",
     "text": [
      "No artists with labels found to put in legend.  Note that artists whose label start with an underscore are ignored when legend() is called with no argument.\n"
     ]
    },
    {
     "output_type": "execute_result",
     "data": {
      "text/plain": [
       "<matplotlib.legend.Legend at 0x7f67cabb9fd0>"
      ]
     },
     "metadata": {},
     "execution_count": 39
    },
    {
     "output_type": "display_data",
     "data": {
      "image/png": "[encoded data removed]",
      "text/plain": [
       "<Figure size 432x288 with 1 Axes>"
      ]
     },
     "metadata": {
      "needs_background": "light"
     }
    }
   ],
   "metadata": {}
  },
  {
   "cell_type": "code",
   "execution_count": 40,
   "source": [
    "len(sents)"
   ],
   "outputs": [
    {
     "output_type": "execute_result",
     "data": {
      "text/plain": [
       "1000"
      ]
     },
     "metadata": {},
     "execution_count": 40
    }
   ],
   "metadata": {}
  },
  {
   "cell_type": "code",
   "execution_count": 42,
   "source": [
    "counts = {i: news_title_sub.count(i) for i in news_title_sub}\n",
    "{k: v for k, v in counts.items() if v > 1}"
   ],
   "outputs": [
    {
     "output_type": "execute_result",
     "data": {
      "text/plain": [
       "{}"
      ]
     },
     "metadata": {},
     "execution_count": 42
    }
   ],
   "metadata": {}
  },
  {
   "cell_type": "code",
   "execution_count": null,
   "source": [],
   "outputs": [],
   "metadata": {}
  }
 ],
 "metadata": {
  "orig_nbformat": 4,
  "language_info": {
   "name": "python",
   "version": "3.7.13",
   "mimetype": "text/x-python",
   "codemirror_mode": {
    "name": "ipython",
    "version": 3
   },
   "pygments_lexer": "ipython3",
   "nbconvert_exporter": "python",
   "file_extension": ".py"
  },
  "kernelspec": {
   "name": "python3",
   "display_name": "Python 3.7.13 64-bit ('group_practical': conda)"
  },
  "interpreter": {
   "hash": "3abe2fc45ef8f7b9c9ffb4b5ab4d4a0cc498ff560b26e636219f492286e85227"
  }
 },
 "nbformat": 4,
 "nbformat_minor": 2
}