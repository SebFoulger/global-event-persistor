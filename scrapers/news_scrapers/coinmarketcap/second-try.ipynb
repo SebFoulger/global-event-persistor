{
 "cells": [
  {
   "cell_type": "markdown",
   "source": [
    "# Using a BERT model finetuned for financial headlines"
   ],
   "metadata": {}
  },
  {
   "cell_type": "code",
   "execution_count": 1,
   "source": [
    "# Imoprts\n",
    "from newsplease import NewsPlease\n",
    "import requests\n",
    "from bs4 import BeautifulSoup\n",
    "import unidecode\n",
    "import json\n",
    "import re\n",
    "import numpy as np \n",
    "import matplotlib.pyplot as plt"
   ],
   "outputs": [],
   "metadata": {}
  },
  {
   "cell_type": "code",
   "execution_count": 2,
   "source": [
    "# Get news from Coinmarketcap\n",
    "def get_news(num = 200):\n",
    "    num_pages = num/200\n",
    "    num_remaining = num\n",
    "    news_data = []\n",
    "    page = 1\n",
    "    while num_remaining > 0:\n",
    "        to_get = min(num_remaining, 200)\n",
    "        url = f\"https://api.coinmarketcap.com/content/v3/news?&page={page}&size={to_get}\"\n",
    "        res = requests.get(url)\n",
    "        news_data += json.loads(res.text)['data']\n",
    "        num_remaining -= to_get\n",
    "        page += 1\n",
    "    return news_data"
   ],
   "outputs": [],
   "metadata": {}
  },
  {
   "cell_type": "code",
   "execution_count": 15,
   "source": [
    "# Get sentiment from BERT model\n",
    "def prepare_text(text):\n",
    "    return unidecode.unidecode(text.strip())\n",
    "\n",
    "def get_sentiment(texts, url = 'http://127.0.0.1:8080/finbert'):\n",
    "    js = { 'texts': texts }\n",
    "    res = requests.post(url, json = js)\n",
    "    return res.json()['ans']\n",
    "\n",
    "def get_tweet_sentiment(tweet):\n",
    "    sent = get_sentiment(tweet['text'])\n",
    "    return sent"
   ],
   "outputs": [],
   "metadata": {}
  },
  {
   "cell_type": "code",
   "execution_count": 4,
   "source": [
    "news = get_news(10)\n",
    "print(len(news))"
   ],
   "outputs": [
    {
     "output_type": "stream",
     "name": "stdout",
     "text": [
      "10\n"
     ]
    }
   ],
   "metadata": {}
  },
  {
   "cell_type": "code",
   "execution_count": 5,
   "source": [
    "news"
   ],
   "outputs": [
    {
     "output_type": "execute_result",
     "data": {
      "text/plain": [
       "[{'slug': 'blockchain-com-closes-sponsorship-deal-with-dallas-cowboys',\n",
       "  'assets': [{'name': 'Base Protocol', 'coinId': 7838, 'type': 'coin'},\n",
       "   {'name': 'Ethereum Push Notification Service',\n",
       "    'coinId': 9111,\n",
       "    'type': 'coin'},\n",
       "   {'name': 'RAMP', 'coinId': 7463, 'type': 'coin'},\n",
       "   {'name': 'RED', 'coinId': 2771, 'type': 'coin'},\n",
       "   {'name': 'iDealCash', 'coinId': 3439, 'type': 'coin'}],\n",
       "  'createdAt': '2022-04-13T16:34:15.196Z',\n",
       "  'meta': {'title': 'Blockchain.com closes sponsorship deal with Dallas Cowboys',\n",
       "   'subtitle': '\\n            Blockchain.com announced Wednesday the close of a sponsorship deal with the Dallas Cowboys as part of a broader marketing push to expand its retail user base in the US.\\xa0\\n                    ',\n",
       "   'content': '<p>Blockchain.com announced Wednesday the close of a sponsorship deal with the Dallas Cowboys as part of a broader marketing push to expand its retail user base in the US.\\xa0</p>\\n<p>The deal comes as companies across the crypto industry <a href=\"https://www.theblockcrypto.com/news+/134921/how-risky-crypto-tie-ups-have-shaken-up-pro-sports-dealmaking\" target=\"_blank\" rel=\"noopener\">ramp up</a> their marketing spending, particularly in the area of sports. Major sporting franchises, too, have eyed crypto as a way to expand fan outreach. Recent deals include ByBit\\'s 3-year, $150 million deal with Red Bull Racing and Crypto.com\\'s $175 million, 10-year deal with the UFC.</p>\\n<p>Elsewhere, the crypto-sporting intersection was <a href=\"https://www.theblockcrypto.com/linked/134070/coinbase-ftx-make-super-bowl-debut-commit-to-giving-away-crypto\" target=\"_blank\" rel=\"noopener\">fully on display</a> during the recent Super Bowl championship, as The Block previously reported.\\xa0</p>\\n<p>Blockchain.com\\'s partnership with the Dallas Cowboys, announced by general manager Jerry Jones and the exchange\\'s CEO Peter Smith, includes a range of advertising and event initiatives, including the ability for Blockchain.com users to access Cowboy-related content via its retail mobile app.\\xa0</p>\\n<p>In an interview with The Block, Smith said that the firm\\'s conversations with the Cowboys started last year as the company was exploring the benefits of sports marketing.\\xa0</p>\\n<p>\"The Cowboys are the biggest sports team in America if you look at the data,\" Smith said. Data from <a href=\"https://www.statista.com/statistics/240028/facebook-fans-of-national-football-league-teams/\" target=\"_blank\" rel=\"noopener\">Statista</a> showed that the Dallas Cowboys boasted more than 8 million fans on Facebook as of early March.\\xa0</p>\\n<p>\"They have more fans than crypto companies have users,\" Smith told The Block. \"For us, it is a consumer-first partnership. But Texas is obviously a big home for bitcoin mining, so we will be doing some institutional stuff. \"</p>\\n<p>The firm plans to invest more resources into its marketing efforts in the next year. Historically, Blockchain.com has spent effectively \"zero\" on marketing, according to Smith. He estimated that the firm could spend around $50 to $70 million this year.\\xa0</p>\\n<p>\"You won\\'t be able to escape crypto and Blockchain.com, even on Sundays,\" said Smith.\\xa0</p><br/><p><span class=\"font-body font-size-7;\">© 2022 The Block Crypto, Inc. All Rights Reserved. This article is provided for informational purposes only. It is not offered or intended to be used as legal, tax, investment, financial, or other advice.</span></p>\\n',\n",
       "   'sourceName': 'The Block',\n",
       "   'maxChar': 800,\n",
       "   'language': 'en',\n",
       "   'status': 'PUBLISHED',\n",
       "   'type': 'NEWS',\n",
       "   'visibility': True,\n",
       "   'sourceUrl': 'https://www.theblockcrypto.com/linked/141796/blockchain-com-closes-sponsorship-deal-with-dallas-cowboys?utm_source=coinmarketcap&utm_medium=rss',\n",
       "   'createdAt': '2022-04-13T16:34:15.196Z',\n",
       "   'updatedAt': '2022-04-13T16:34:19.833Z',\n",
       "   'releasedAt': '2022-04-13T16:33:02.000Z'}},\n",
       " {'slug': 'community-contributors-ask-wikimedia-foundation-to-ban-crypto-donations',\n",
       "  'assets': [{'name': 'Page', 'coinId': 12725, 'type': 'coin'},\n",
       "   {'name': 'STAKE', 'coinId': 5601, 'type': 'coin'},\n",
       "   {'name': 'Banano', 'coinId': 4704, 'type': 'coin'},\n",
       "   {'name': 'Permission Coin', 'coinId': 7105, 'type': 'coin'},\n",
       "   {'name': 'Askcoin', 'coinId': 4640, 'type': 'coin'}],\n",
       "  'createdAt': '2022-04-13T16:34:15.196Z',\n",
       "  'meta': {'title': 'Community contributors ask Wikimedia Foundation to ban crypto donations',\n",
       "   'subtitle': '\\n            During the discussion period, mroe than 70% of voters came out against accepting crypto donations on ethical grounds. \\n                    ',\n",
       "   'content': '<p><span style=\"font-weight: 400;\">The Wikimedia contributor community has </span><a href=\"https://meta.wikimedia.org/wiki/Requests_for_comment/Stop_accepting_cryptocurrency_donations\"><span style=\"font-weight: 400;\">requested</span></a><span style=\"font-weight: 400;\"> that the Wikimedia Foundation, a non-profit that funds Wikipedia and other sister projects, should cease accepting donations in cryptocurrency, following a three-month debate over the ethics of using the technology.</span></p>\\n<p><span style=\"font-weight: 400;\">US-based software developer Molly White, who edits Wikipedia under the username GorillaWarfare, put forward the proposition on January 10. This led to a period where contributors could state their support or opposition to the idea. The Requests for Comment page debating the proposition closed this week with a total of 232 to 94 contributors (71.7%) in favor of the ban.\\xa0</span></p>\\n<p><span style=\"font-weight: 400;\">“Thus, the Wikimedia community requests that the Wikimedia Foundation stop accepting cryptocurrency donations,” states the proposal, in light of the feedback.</span></p>\\n<p><span style=\"font-weight: 400;\">The community cited concerns around environmental sustainability, whether accepting cryptocurrency equates to an endorsement of the technology, and reputational implications as reasons for implementing a ban.</span></p>\\n<p><span style=\"font-weight: 400;\">The foundation currently accepts donations in Bitcoin, BitcoinCash and Ether. In the last financial year, it received over $130,000 in cryptocurrency donations. This represents just 0.08% of revenue, making it one of the foundation\\'s smallest donation channels.\\xa0</span></p>\\n<p><span style=\"font-weight: 400;\">Among the 347 people who opted to donate via crypto, Bitcoin was the most common option.</span></p>\\n<h2>Mozilla changes direction</h2>\\n<p><span style=\"font-weight: 400;\">The news comes just days after Mozilla </span><a href=\"https://twitter.com/mozilla/status/1512106462163746818?ref_src=twsrc%5Etfw%7Ctwcamp%5Etweetembed%7Ctwterm%5E1512106462163746818%7Ctwgr%5E%7Ctwcon%5Es1_&amp;ref_url=https%3A%2F%2Fcointelegraph.com%2Fnews%2Fno-bitcoin-mozilla-will-only-accept-proof-of-stake-crypto-donations\"><span style=\"font-weight: 400;\">posted</span></a><span style=\"font-weight: 400;\"> “we got it wrong, we heard you, and we\\'ve evolved“ on its official Twitter account as it announced plans to resume crypto donations — excluding some coins. It paused the payment option in January.\\xa0</span></p>\\n<p><span style=\"font-weight: 400;\">Mozilla’s co-founder is longtime crypto critic Jamie Zawinski, who via his blog has <a href=\"https://www.jwz.org/blog/2022/01/mozilla-blinked/\" target=\"_blank\" rel=\"noopener\">branded</a> cryptocurrencies an “apocalyptic ecological disaster,” a “greater-fool pyramid scheme” and “incredibly toxic to the open web.”</span></p>\\n<p><span style=\"font-weight: 400;\">It is one of several groups who have rolled back involvement in crypto and blockchain technology over the last few months following criticism about the environmental impact.\\xa0</span></p>\\n<p><span style=\"font-weight: 400;\">While Mozilla will not accept cryptocurrencies using proof of work due to environmental considerations, it is now working on a list of approved proof-of-stake payment options which will be published and implemented by the end of Q2 2022.\\xa0</span></p>\\n<p><span style=\"font-weight: 400;\">Like Mozilla, Wikimedia began accepting crypto in 2014. It has not yet clarified whether it will adhere to its community’s wishes.\\xa0</span></p>\\n<p><span style=\"font-weight: 400;\">The Block has reached out to the Wikimedia Foundation for its response to the proposal.\\xa0</span></p><br/><p><span class=\"font-body font-size-7;\">© 2022 The Block Crypto, Inc. All Rights Reserved. This article is provided for informational purposes only. It is not offered or intended to be used as legal, tax, investment, financial, or other advice.</span></p>\\n',\n",
       "   'sourceName': 'The Block',\n",
       "   'maxChar': 800,\n",
       "   'language': 'en',\n",
       "   'status': 'PUBLISHED',\n",
       "   'type': 'NEWS',\n",
       "   'visibility': True,\n",
       "   'sourceUrl': 'https://www.theblockcrypto.com/post/141821/community-contributors-ask-wikimedia-foundation-to-ban-crypto-donations?utm_source=coinmarketcap&utm_medium=rss',\n",
       "   'createdAt': '2022-04-13T16:34:15.196Z',\n",
       "   'updatedAt': '2022-04-13T16:34:19.841Z',\n",
       "   'releasedAt': '2022-04-13T16:31:48.000Z'}},\n",
       " {'slug': 'new-upgrade-for-atom-means-all-this-for-altcoins-price',\n",
       "  'assets': [{'name': 'Ergo', 'coinId': 1762, 'type': 'coin'},\n",
       "   {'name': 'GAIA Everworld', 'coinId': 12650, 'type': 'coin'},\n",
       "   {'name': 'Atomic Coin', 'coinId': 1420, 'type': 'coin'},\n",
       "   {'name': 'THIS', 'coinId': 18269, 'type': 'coin'},\n",
       "   {'name': 'Cosmos', 'coinId': 3794, 'type': 'coin'}],\n",
       "  'createdAt': '2022-04-13T16:34:15.196Z',\n",
       "  'meta': {'title': 'New upgrade for ATOM means all this for altcoin’s price',\n",
       "   'subtitle': 'Cosmos blockchain network just rolled out an important upgrade called Gaia v7.0.0 which will enable interchain accounts. Meanwhile, its native cryptocurrency ATOM recorded a slight uptick during Tuesday’s trading session. Ergo, the question &#8211; Did this have something to do w...',\n",
       "   'sourceName': 'AMBCrypto',\n",
       "   'maxChar': 0,\n",
       "   'language': 'en',\n",
       "   'status': 'PUBLISHED',\n",
       "   'type': 'NEWS',\n",
       "   'visibility': True,\n",
       "   'sourceUrl': 'https://ambcrypto.com/new-upgrade-for-atom-means-all-this-for-altcoins-price/',\n",
       "   'createdAt': '2022-04-13T16:34:15.196Z',\n",
       "   'updatedAt': '2022-04-13T16:34:19.871Z',\n",
       "   'releasedAt': '2022-04-13T16:30:01.000Z'}},\n",
       " {'slug': 'meta-whistleblower-warns-zucks-metaverse-could-harm-mental-health',\n",
       "  'cover': 'https://protos.com/wp-content/uploads/2022/04/Protos-Artwork-FacebookIssues.jpg',\n",
       "  'assets': [{'name': 'METAVERSE', 'coinId': 14098, 'type': 'coin'},\n",
       "   {'name': 'KLAYMETA', 'coinId': 18255, 'type': 'coin'},\n",
       "   {'name': 'Meta Musk', 'coinId': 15404, 'type': 'coin'},\n",
       "   {'name': 'MetaversePRO', 'coinId': 14705, 'type': 'coin'},\n",
       "   {'name': 'Meta', 'coinId': 14378, 'type': 'coin'}],\n",
       "  'createdAt': '2022-04-13T16:34:15.196Z',\n",
       "  'meta': {'title': 'Meta whistleblower warns Zuck’s metaverse could harm mental health',\n",
       "   'subtitle': 'Former employee Frances Haugen told Politico that Meta hasn\\'t learned from its mistakes and runs the risk of repeating Facebook\\'s \"harms.\"\\nThe post Meta whistleblower warns Zuck&#8217;s metaverse could harm mental health appeared first on Protos.\\n',\n",
       "   'content': '<div id=\"bsf_rt_marker\">\\n\\n\\n\\n\\n<p>Facebook whistleblower Frances Haugen says her former employer (now going by the name Meta) hasn&#8217;t learned from its previous mistakes as it continues to develop its metaverse.\\xa0</p>\\n\\n\\n\\n<p>In an interview with Politico Haugen said: &#8220;[Meta has] made very grandiose promises about how there&#8217;s safety-by-design in the metaverse.”</p>\\n\\n\\n\\n<p>“But if they don&#8217;t commit to transparency and access and other accountability measures, I can imagine just seeing a <strong>repeat of all the harms you currently see on Facebook</strong>,” (<a href=\"https://www.politico.com/newsletters/digital-future-daily/2022/04/12/the-facebook-whistleblower-takes-on-the-metaverse-00024762\" target=\"_blank\" rel=\"noreferrer noopener\">via</a> Politico, our emphasis).</p>\\n\\n\\n\\n<p>Last year Haugen leaked thousands of internal documents claiming (among other things) that:</p>\\n\\n\\n\\n<ul><li>Facebook was aware of its platforms’ negative effect on the mental health of teenage users,</li><li>its products incited ethnic violence,</li><li>and it was failing miserably to battle misinformation.</li></ul>\\n\\n\\n\\n<p>For the record, the Menlo Park-headquarted firm claims it’s working hard to address these concerns. It says it is <strong>spending $50 million</strong> on input from external groups to consider privacy, security, and responsible design.</p>\\n\\n\\n\\n<p>However, to put this figure into perspective, Meta spent <strong>$10 billion on development</strong> last year alone.</p>\\n\\n\\n\\n<h2 id=\"h-metaverse-v-1-is-a-bit-shit\">Metaverse v.1 is a bit shit&nbsp;</h2>\\n\\n\\n\\n<p>In their current state, the many different metaverses (metaversi?) are very early in their functionality.</p>\\n\\n\\n\\n<p>Protos discovered that there was actually <a href=\"https://protos.com/decentraland-ethereum-cryptocurrency-music-festival-interviews/\" target=\"_blank\" rel=\"noreferrer noopener\">very little to do</a> on a visit to a largely deserted play-to-earn Decentraland.</p>\\n\\n\\n\\n<p>There is a belief, at least at Meta HQ, that the virtual world will become as <strong>ubiquitous as social media</strong>. Zuckerberg has big plans to improve on Meta’s current offering of Occulus goggles and legless avatars.</p>\\n\\n\\n\\n<p>However, Meta’s virtual world will require the collection of <strong>huge amounts of sensitive data</strong> and full-body tracking.</p>\\n\\n\\n\\n<figure class=\"wp-block-embed is-type-video is-provider-youtube wp-block-embed-youtube wp-embed-aspect-16-9 wp-has-aspect-ratio\"><div class=\"wp-block-embed__wrapper\">\\n<iframe loading=\"lazy\" title=\"Oculus Quest: Under the Hood\" width=\"500\" height=\"281\" src=\"https://www.youtube.com/embed/xwW-1mbemGc?start=5&#038;feature=oembed\" frameborder=\"0\" allow=\"accelerometer; autoplay; clipboard-write; encrypted-media; gyroscope; picture-in-picture\" allowfullscreen></iframe>\\n</div></figure>\\n\\n\\n\\n<p><em>Read more: <a href=\"https://protos.com/metaverse-web3-already-cringe-blockchain-not-bitcoin-same-thing/\">OPINION: The Metaverse and ‘Web 3’ aren’t even here and they’re already cringe</a></em></p>\\n\\n\\n\\n<p>&#8220;I&#8217;m super concerned about how many sensors are involved,&#8221; Haugen told Politico.</p>\\n\\n\\n\\n<p>&#8220;When we do the metaverse, we have to put lots more microphones from Facebook; lots more other kinds of sensors into our homes.&#8221;</p>\\n\\n\\n\\n<p>Politico notes an Electronic Frontier Foundation <a href=\"https://www.eff.org/deeplinks/2021/12/virtual-worlds-real-people-human-rights-metaverse\" target=\"_blank\" rel=\"noreferrer noopener\">report</a> which warns that the metaverse “<strong>poses substantial risks to human rights</strong>.”</p>\\n\\n\\n\\n<p>In September’s “Building the Metaverse Responsibly” <a href=\"https://about.fb.com/news/2021/09/building-the-metaverse-responsibly/\" target=\"_blank\" rel=\"noreferrer noopener\">blog</a> post, Meta execs Andrew Bosworth and Nick Clegg claim human and civil rights are at the top of the firm’s agenda.</p>\\n\\n\\n\\n<h2>Facebook whistleblower lost a friend to harmful online content</h2>\\n\\n\\n\\n<p>Haugen became instantly famous after she leaked tens of thousands of Facebook internal documents which left the social media behemoth red-faced.</p>\\n\\n\\n\\n<p>She told the Wall Street Journal (WSJ) that she decided to expose her former employer because she had <strong>lost</strong> <strong>a</strong> <strong>friend</strong> <strong>to</strong> <strong>conspiracy</strong> <strong>theories</strong> fuelled by online misinformation.</p>\\n\\n\\n\\n<p>It’s worth noting that chief exec Mark Zuckerberg responded to the WSJ’s <a href=\"https://www.wsj.com/articles/the-facebook-files-11631713039\" target=\"_blank\" rel=\"noreferrer noopener\">Facebook Files</a> investigation, alleging in a Facebook <a href=\"https://www.facebook.com/zuck/posts/10113961365418581\" target=\"_blank\" rel=\"noreferrer noopener\">post</a> that many of the claims don’t make sense.</p>\\n\\n\\n\\n<figure class=\"wp-block-embed is-type-video is-provider-youtube wp-block-embed-youtube wp-embed-aspect-16-9 wp-has-aspect-ratio\"><div class=\"wp-block-embed__wrapper\">\\n<iframe loading=\"lazy\" title=\"Facebook Whistleblower Frances Haugen: The 60 Minutes Interview\" width=\"500\" height=\"281\" src=\"https://www.youtube.com/embed/_Lx5VmAdZSI?feature=oembed\" frameborder=\"0\" allow=\"accelerometer; autoplay; clipboard-write; encrypted-media; gyroscope; picture-in-picture\" allowfullscreen></iframe>\\n</div><figcaption>In an interview last year Haugen claimed she blew the whistle because she loves Facebook and wants to save it.</figcaption></figure>\\n\\n\\n\\n<p><em>Read more: <a href=\"https://protos.com/citi-metaverse-report-bullish-five-billion-users/\" target=\"_blank\" rel=\"noreferrer noopener\">Citi says metaverse could be worth up to $13T, predicts 5B users</a></em></p>\\n\\n\\n\\n<p>“If we didn&#8217;t care about fighting harmful content, then why would we employ so many more people dedicated to this than any other company in our space &#8212; even ones larger than us?” he wrote.</p>\\n\\n\\n\\n<p>Facebook hired Haugen in 2019 as part of its Civic Integrity team.</p>\\n\\n\\n\\n<p>The department was tasked with guarding the platform against misinformation, particularly concerning elections around the world.</p>\\n\\n\\n\\n<p><em>Follow us on&nbsp;</em><a href=\"https://twitter.com/protos/\" target=\"_blank\" rel=\"noreferrer noopener\"><em>Twitter</em></a><em>&nbsp;for more informed news.</em></p>\\n\\n\\n\\n<p><em>Out now: the first four episodes of our ongoing investigative podcast series&nbsp;<a target=\"_blank\" href=\"https://protos.com/podcasts/innovated/\" rel=\"noreferrer noopener\">Innovated: Blockchain City</a>.</em></p>\\n</div><p>The post <a rel=\"nofollow\" href=\"https://protos.com/meta-whistleblower-warns-zucks-metaverse-could-harm-mental-health/\">Meta whistleblower warns Zuck&#8217;s metaverse could harm mental health</a> appeared first on <a rel=\"nofollow\" href=\"https://protos.com\">Protos</a>.</p>\\n',\n",
       "   'sourceName': 'Protos',\n",
       "   'maxChar': 0,\n",
       "   'language': 'en',\n",
       "   'status': 'PUBLISHED',\n",
       "   'type': 'NEWS',\n",
       "   'visibility': True,\n",
       "   'sourceUrl': 'https://protos.com/meta-whistleblower-warns-zucks-metaverse-could-harm-mental-health/',\n",
       "   'createdAt': '2022-04-13T16:34:15.196Z',\n",
       "   'updatedAt': '2022-04-13T16:34:19.830Z',\n",
       "   'releasedAt': '2022-04-13T16:24:14.000Z'}},\n",
       " {'slug': 'mark-yusko-explains-the-real-problem-with-fed-policy-and-why-bitcoin-matters',\n",
       "  'cover': 'https://images.cointelegraph.com/images/840_aHR0cHM6Ly9zMy5jb2ludGVsZWdyYXBoLmNvbS91cGxvYWRzLzIwMjItMDQvZWU3Y2Y5ZTEtOTk4Ny00NTYwLWE5ZGUtY2E3NTg3NjVjMzk3LmpwZw==.jpg',\n",
       "  'assets': [{'name': 'Power Nodes', 'coinId': 16216, 'type': 'coin'},\n",
       "   {'name': 'Civic Power', 'coinId': 17437, 'type': 'coin'},\n",
       "   {'name': 'Meta Reserve Finance', 'coinId': 16633, 'type': 'coin'},\n",
       "   {'name': 'YOUR', 'coinId': 18103, 'type': 'coin'},\n",
       "   {'name': 'REAL', 'coinId': 2030, 'type': 'coin'}],\n",
       "  'createdAt': '2022-04-13T16:34:15.196Z',\n",
       "  'meta': {'title': 'Mark Yusko explains the real problem with Fed policy — and why Bitcoin matters',\n",
       "   'subtitle': '\\n                The founder of Morgan Creek Capital explains how the Federal Reserve is destroying your purchasing power and why it could get a lot worse. \\n            ',\n",
       "   'sourceName': 'Cointelegraph.com News',\n",
       "   'maxChar': 0,\n",
       "   'language': 'en',\n",
       "   'status': 'PUBLISHED',\n",
       "   'type': 'NEWS',\n",
       "   'visibility': True,\n",
       "   'sourceUrl': 'https://cointelegraph.com/news/mark-yusko-explains-the-real-problem-with-fed-policy-and-why-bitcoin-matters',\n",
       "   'createdAt': '2022-04-13T16:34:15.196Z',\n",
       "   'updatedAt': '2022-04-13T16:34:19.849Z',\n",
       "   'releasedAt': '2022-04-13T16:15:00.000Z'}},\n",
       " {'slug': 'binemon-backs-amb-token',\n",
       "  'cover': 'https://uploads-ssl.webflow.com/5fad86e2327507cecea2d5e8/6256f63e629d5a0576b40c75_Binemon_Backs__AMB%20Token.jpeg',\n",
       "  'assets': [{'name': 'Auto', 'coinId': 8387, 'type': 'coin'},\n",
       "   {'name': 'Ambrosus', 'coinId': 2081, 'type': 'coin'},\n",
       "   {'name': 'Binemon', 'coinId': 11412, 'type': 'coin'},\n",
       "   {'name': 'SOLVE', 'coinId': 3724, 'type': 'coin'},\n",
       "   {'name': 'AMCBLUE', 'coinId': 4601, 'type': 'coin'}],\n",
       "  'createdAt': '2022-04-13T16:34:15.196Z',\n",
       "  'meta': {'title': 'Binemon Backs $AMB Token',\n",
       "   'subtitle': 'The PlayAndEarn Dapp looks to solve one of the main drawbacks of auto-staking projects by combining it with the GameFi world.\\n',\n",
       "   'sourceName': 'BSCnews',\n",
       "   'maxChar': 0,\n",
       "   'language': 'en',\n",
       "   'status': 'PUBLISHED',\n",
       "   'type': 'NEWS',\n",
       "   'visibility': True,\n",
       "   'sourceUrl': 'https://www.bsc.news/post/binemon-backs-amb-token',\n",
       "   'createdAt': '2022-04-13T16:34:15.196Z',\n",
       "   'updatedAt': '2022-04-13T16:34:19.845Z',\n",
       "   'releasedAt': '2022-04-13T16:12:00.000Z'}},\n",
       " {'slug': '3823129-crypto-stocks-back-in-the-green-as-bitcoin-rebounds-off-one-month-lows',\n",
       "  'cover': 'https://static.seekingalpha.com/cdn/s3/uploads/getty_images/1255216496/image_1255216496.jpg?io=getty-c-w750',\n",
       "  'assets': [{'name': 'Green Chart', 'coinId': 16649, 'type': 'coin'},\n",
       "   {'name': 'Bitcoin', 'coinId': 1, 'type': 'coin'},\n",
       "   {'name': 'Greenhouse', 'coinId': 18917, 'type': 'coin'},\n",
       "   {'name': 'KEY', 'coinId': 2713, 'type': 'coin'},\n",
       "   {'name': 'OFFLINE', 'coinId': 8674, 'type': 'coin'}],\n",
       "  'createdAt': '2022-04-13T16:34:15.196Z',\n",
       "  'meta': {'title': 'Crypto stocks back in the green as Bitcoin rebounds off one-month lows',\n",
       "   'subtitle': 'Crypto-related stocks are gaining some upside momentum Wednesday afternoon as Bitcoin (BTC-USD) rebounds off a key level of technical support.\\xa0 Some crypto-focused stocks making the most pronounced upswings intraday include: Bit Mining (BTCM +9.3%), Marathon Digital (NASDAQ:MARA ...',\n",
       "   'sourceName': 'Seeking Alpha',\n",
       "   'maxChar': 800,\n",
       "   'language': 'en',\n",
       "   'status': 'PUBLISHED',\n",
       "   'type': 'NEWS',\n",
       "   'visibility': True,\n",
       "   'sourceUrl': 'https://seekingalpha.com/news/3823129-crypto-stocks-back-in-the-green-as-bitcoin-rebounds-off-one-month-lows?utm_source=coinmarketcap.com&utm_medium=referral',\n",
       "   'createdAt': '2022-04-13T16:34:15.196Z',\n",
       "   'updatedAt': '2022-04-13T16:34:19.835Z',\n",
       "   'releasedAt': '2022-04-13T16:03:53.000Z'}},\n",
       " {'slug': 'ex-ethereum-dev-given-5-year-sentence-over-helping-north-korea-evade-sanctions',\n",
       "  'assets': [{'name': 'DeviantCoin', 'coinId': 2649, 'type': 'coin'},\n",
       "   {'name': 'Dev Protocol', 'coinId': 5990, 'type': 'coin'},\n",
       "   {'name': 'North Pole', 'coinId': 17907, 'type': 'coin'},\n",
       "   {'name': 'Electronic Mining and Mineral Exchange',\n",
       "    'coinId': 15701,\n",
       "    'type': 'coin'},\n",
       "   {'name': 'Acet', 'coinId': 11706, 'type': 'coin'}],\n",
       "  'createdAt': '2022-04-13T16:34:15.196Z',\n",
       "  'meta': {'title': 'Ex-Ethereum dev given 5 year sentence over helping North Korea evade sanctions',\n",
       "   'subtitle': 'Former Ethereum Foundation developer Virgil Griffith was sentenced to 5 years in prison after pleading guilty to a one-count charge of conspiracy to violate the United States International Emergency Economic Powers Act, Bloomberg News reported. \\nThe post Ex-Ethereum dev given 5 y...',\n",
       "   'content': '<p><span style=\"font-weight: 400;\">Former </span><a href=\"https://cryptoslate.com/coins/ethereum/\"><span style=\"font-weight: 400;\">Ethereum</span></a><span style=\"font-weight: 400;\"> Foundation developer Virgil Griffith was sentenced to 5 years in prison after pleading guilty to a one-count charge of conspiracy to violate the U.S. International Emergency Economic Powers Act, Bloomberg News </span><a href=\"https://www.bloomberg.com/news/articles/2022-04-12/crypto-expert-gets-63-months-for-violating-north-korea-sanctions?srnd=cryptocurrencies-v2\"><span style=\"font-weight: 400;\">reported</span></a><span style=\"font-weight: 400;\">.</span></p>\\n<h2><b>Ignored warning</b></h2>\\n<p><span style=\"font-weight: 400;\">His offense was helping </span><a href=\"https://cryptoslate.com/north-korea-using-hackers-to-raise-revenue-via-crypto-heists/\"><span style=\"font-weight: 400;\">North Korea</span></a><span style=\"font-weight: 400;\"> to evade sanctions by attending a 2019 blockchain and cryptocurrency conference in Pyongyang. Griffith had insisted on attending despite advice against it from the U.S. authorities, his family, and people at his company.\\xa0</span></p>\\n<p><span style=\"font-weight: 400;\">The State Department specifically warned him not to attend, but he failed to heed their warning. </span></p>\\n<p><span style=\"font-weight: 400;\">Griffith admitted that he &#8220;genuinely, arrogantly, and erroneously thought&#8221; that he had known better and added in his plea that:</span></p>\\n<blockquote><p><strong>&#8220;I’ve learned my lesson. I am still profoundly embarrassed that I am here and of what I have done.”</strong></p></blockquote>\\n<p><span style=\"font-weight: 400;\">However, the admission and guilty plea were not enough to sway the judge to grant leniency.</span></p>\\n<p><span style=\"font-weight: 400;\">The crypto expert was </span><a href=\"https://cryptoslate.com/what-next-as-ethereum-dev-virgil-griffith-pleads-guilty-to-north-korea-sanctions/\"><span style=\"font-weight: 400;\">initially arrested</span></a><span style=\"font-weight: 400;\"> in November 2019 for providing expert advice and information about blockchain technology to the North Korean government. Prosecutors claim that the country could use the information to evade U.S. sanctions. He has been in custody since July 2021.</span></p>\\n<h2><b>Deliberate and intentional</b></h2>\\n<p><span style=\"font-weight: 400;\">Ruling on the matter, U.S. District Judge P. Kevin Castel rejected Griffith&#8217;s leniency plea for a two-year jail term, ruling that the blockchain expert had shown &#8220;a deliberate, willful intent to violate the sanctions regime.&#8221;\\xa0</span></p>\\n<p><span style=\"font-weight: 400;\">To support the ruling, the judge pointed to photographs of Griffith, where he was dressed in a North Korean uniform in front of a whiteboard that had the words &#8220;no santions, yay&#8221; written on it.</span><span style=\"font-weight: 400;\">\\xa0</span></p>\\n<p><span style=\"font-weight: 400;\">The judge also disagreed with Defence&#8217;s claim that Griffith&#8217;s trip to North Korea was a personal sacrifice to share educational materials about blockchain technology.\\xa0</span></p>\\n<p><span style=\"font-weight: 400;\">In his opinion, these were not the facts. Castel said:</span></p>\\n<blockquote><p><strong>What you see here is an intentionality…and a desire to educate people on how to evade sanctions.</strong></p></blockquote>\\n<p><span style=\"font-weight: 400;\">The original crime carries a 20-year jail term maximum. But a plea agreement between Griffith and the Prosecution meant the prosecution was only asking for six and half years maximum.</span></p>\\n<h2><b>Setting an example</b></h2>\\n<p><span style=\"font-weight: 400;\">The severity of the sentence may have been influenced by the current war between Russia and Ukraine. Both the prosecution and the judge referred to this and how the actions of people like Griffith undermine one of the U.S.&#8217;s most important tools, which is sanctions.</span></p>\\n<p><span style=\"font-weight: 400;\"><em>CryptoSlate</em> recently </span><a href=\"https://cryptoslate.com/us-warns-crypto-firms-against-helping-russia/\"><span style=\"font-weight: 400;\">reported</span></a> that U.S. <span style=\"font-weight: 400;\">authorities have warned crypto firms and anyone who wants to help Russia bypass the economic sanctions being imposed on it against the action, saying that they would hold the perpetrators accountable.</span></p>\\n<p>The post <a rel=\"nofollow\" href=\"https://cryptoslate.com/ex-ethereum-dev-given-5-year-sentence-over-helping-north-korea-evade-sanctions/\">Ex-Ethereum dev given 5 year sentence over helping North Korea evade sanctions</a> appeared first on <a rel=\"nofollow\" href=\"https://cryptoslate.com\">CryptoSlate</a>.</p>\\n',\n",
       "   'sourceName': 'CryptoSlate',\n",
       "   'maxChar': 800,\n",
       "   'language': 'en',\n",
       "   'status': 'PUBLISHED',\n",
       "   'type': 'NEWS',\n",
       "   'visibility': True,\n",
       "   'sourceUrl': 'https://cryptoslate.com/ex-ethereum-dev-given-5-year-sentence-over-helping-north-korea-evade-sanctions/',\n",
       "   'createdAt': '2022-04-13T16:34:15.196Z',\n",
       "   'updatedAt': '2022-04-13T16:34:19.879Z',\n",
       "   'releasedAt': '2022-04-13T16:00:56.000Z'}},\n",
       " {'slug': 'ethereum-price-prediction-eth-price-hovers-below-50-day-ema-is-3300-possible',\n",
       "  'assets': [{'name': 'Ethereum', 'coinId': 1027, 'type': 'coin'},\n",
       "   {'name': 'Gather', 'coinId': 7041, 'type': 'coin'},\n",
       "   {'name': 'Strong', 'coinId': 6511, 'type': 'coin'},\n",
       "   {'name': 'April', 'coinId': 10367, 'type': 'coin'},\n",
       "   {'name': 'DAY', 'coinId': 6415, 'type': 'coin'}],\n",
       "  'createdAt': '2022-04-13T16:34:15.196Z',\n",
       "  'meta': {'title': 'Ethereum Price Prediction: ETH Price Hovers Below 50-day EMA; Is $3,300 Possible?',\n",
       "   'subtitle': 'ETH price makes significant moves on Wednesday, the price manages to gather some upside momentum following the downswing since April 4. Although, the price found strong support around $2,950, but still faces challenges below the critical moving averages. ETH price manages to trad...',\n",
       "   'sourceName': 'CoinGape',\n",
       "   'maxChar': 800,\n",
       "   'language': 'en',\n",
       "   'status': 'PUBLISHED',\n",
       "   'type': 'NEWS',\n",
       "   'visibility': True,\n",
       "   'sourceUrl': 'https://coingape.com/markets/ethereum-price-prediction-eth-price-hovers-below-50-day-ema-is-3300-possible/',\n",
       "   'createdAt': '2022-04-13T16:34:15.196Z',\n",
       "   'updatedAt': '2022-04-13T16:34:19.826Z',\n",
       "   'releasedAt': '2022-04-13T16:00:05.000Z'}},\n",
       " {'slug': 'btc-usd-sentiment-remains-pressured-sally-ho-technical-analysis-14-april-2022-btc-bitcoin',\n",
       "  'cover': 'http://cryptodailycdn.ams3.cdn.digitaloceanspaces.com/sally-hos-technical-analysis-13-april-2022.jpg',\n",
       "  'assets': [{'name': 'Orbit', 'coinId': 5100, 'type': 'coin'},\n",
       "   {'name': 'Orbit Token', 'coinId': 14409, 'type': 'coin'},\n",
       "   {'name': 'Bitcoin', 'coinId': 1, 'type': 'coin'},\n",
       "   {'name': 'PieDAO BTC++', 'coinId': 5715, 'type': 'coin'},\n",
       "   {'name': 'PieDAO USD++', 'coinId': 5714, 'type': 'coin'}],\n",
       "  'createdAt': '2022-04-13T16:34:15.196Z',\n",
       "  'meta': {'title': \"BTC/USD Sentiment Remains Pressured:  Sally Ho's Technical Analysis 14 April 2022 BTC\",\n",
       "   'subtitle': 'Bitcoin (BTC/USD) sought fresh technical sentiment early in the Asian session as the pair continued to orbit the psychologically-important 40000 figure after trading as low as the 39250 area.&nbsp; Traders are waiting to see if BTC/USD can test and sustain a break of the 40394.16...',\n",
       "   'content': '<p>Bitcoin (BTC/USD) sought fresh technical sentiment early in the Asian session as the pair continued to orbit the psychologically-important 40000 figure after trading as low as the 39250 area.&nbsp; Traders are waiting to see if BTC/USD can test and sustain a break of the 40394.16 level, a short-term hurdle that represents the 78.6% retracement of the depreciating range from 40705.68 to 39250.&nbsp; Technicians are also paying close attention to the 40586.67 area that represents the 50% retracement of the appreciating range from 32933.33 to 48240.&nbsp; Similarly, traders are also focusing on the 39638.68 area that represents the 61.8% retracement of the appreciating range from 34322 to 48240.&nbsp; Additional downside retracement levels include the 38780.48, 36545.70, and 36208.96 levels, technically significant areas related to the appreciating range from 32933.33 to 48240.</p>\\n<p>BTC/USD recently traded at a 2022 high around the 48240 area before ceding some gains.&nbsp; Additional upside price retracement levels that traders are closely monitoring include the 48574, 49774, 50362, 50636, and 50966 levels.&nbsp; Following the recent move higher, areas of potential technical support and buying pressure include the 38832, 38670, 37797, 37119, and 35626 areas.&nbsp; Areas of potential technical resistance and selling pressure include the 50966, 55222, 60488, and 61281 levels.&nbsp; Traders are&nbsp;observing&nbsp;that the&nbsp;50-bar MA (4-hourly)&nbsp;is&nbsp;bearishly indicating below the 100-bar MA (4-hourly)&nbsp;and&nbsp;below the&nbsp;200-bar MA (4-hourly).&nbsp; Also, the 50-bar MA (hourly) is bearishly indicating below the 100-bar MA (hourly) and below the 200-bar MA (hourly).</p>\\n<p>Price activity is nearest the&nbsp;50-bar MA&nbsp;(4-hourly) at 42944.65 and the&nbsp;50-bar MA&nbsp;(Hourly) at 40447.06.</p>\\n<p>Technical Support&nbsp;is expected around&nbsp;38670.39/ 37797.03/ 34190.77&nbsp;with&nbsp;Stops&nbsp;expected below.</p>\\n<p>Technical Resistance&nbsp;is expected around&nbsp;48574.70/ 50966.67/ 51595.38 with&nbsp;Stops&nbsp;expected above.&nbsp;&nbsp;</p>\\n<p>On&nbsp;4-Hourly&nbsp;chart,&nbsp;SlowK&nbsp;is Bearishly below SlowD&nbsp;while&nbsp;MACD&nbsp;is Bearishly below MACDAverage.</p>\\n<p>On&nbsp;60-minute&nbsp;chart,&nbsp;SlowK&nbsp;is Bullishly above SlowD&nbsp;while&nbsp;MACD&nbsp;is&nbsp;Bullishly above MACDAverage.&nbsp;&nbsp;&nbsp;&nbsp;&nbsp;&nbsp;&nbsp;&nbsp;&nbsp;&nbsp;&nbsp;&nbsp;&nbsp;&nbsp;&nbsp;&nbsp;&nbsp;&nbsp;&nbsp;&nbsp;&nbsp;&nbsp;&nbsp;&nbsp;&nbsp;&nbsp;&nbsp;&nbsp;&nbsp;&nbsp;&nbsp;&nbsp;&nbsp;&nbsp;&nbsp;&nbsp;&nbsp;&nbsp;&nbsp;&nbsp;&nbsp;&nbsp;&nbsp;&nbsp;&nbsp;&nbsp;&nbsp;&nbsp;&nbsp;&nbsp;&nbsp;&nbsp;&nbsp;&nbsp;&nbsp;&nbsp;&nbsp;&nbsp;&nbsp;&nbsp;&nbsp;&nbsp;&nbsp;&nbsp;&nbsp;&nbsp;&nbsp;&nbsp;&nbsp;&nbsp;&nbsp;&nbsp;&nbsp;&nbsp;&nbsp;&nbsp;&nbsp;&nbsp;&nbsp;&nbsp;&nbsp;&nbsp;&nbsp;&nbsp;&nbsp;&nbsp;&nbsp;&nbsp;&nbsp;&nbsp;&nbsp;&nbsp;&nbsp;&nbsp;&nbsp;&nbsp;&nbsp;&nbsp;&nbsp;&nbsp;&nbsp;&nbsp;&nbsp;&nbsp;&nbsp;&nbsp;&nbsp;&nbsp;&nbsp;&nbsp;&nbsp;&nbsp;&nbsp;&nbsp;&nbsp;&nbsp;&nbsp;&nbsp;&nbsp;&nbsp;&nbsp;&nbsp;&nbsp;&nbsp;&nbsp;&nbsp;&nbsp;&nbsp;&nbsp;&nbsp;&nbsp;&nbsp;&nbsp;&nbsp;&nbsp;&nbsp;&nbsp;&nbsp;&nbsp;&nbsp;&nbsp;&nbsp;&nbsp;</p>\\n<p>&nbsp;</p>\\n<p>Disclaimer: This trading analysis is provided by a third party, and for informational purposes only. It does not reflect the views of Crypto Daily, nor is it intended to be used as legal, tax, investment, or financial advice.</p>',\n",
       "   'sourceName': 'Crypto Daily™',\n",
       "   'maxChar': 800,\n",
       "   'language': 'en',\n",
       "   'status': 'PUBLISHED',\n",
       "   'type': 'NEWS',\n",
       "   'visibility': True,\n",
       "   'sourceUrl': 'https://cryptodaily.co.uk/2022/04/btc-usd-sentiment-remains-pressured-sally-ho-technical-analysis-14-april-2022-btc-bitcoin',\n",
       "   'createdAt': '2022-04-13T16:34:15.196Z',\n",
       "   'updatedAt': '2022-04-13T16:34:19.849Z',\n",
       "   'releasedAt': '2022-04-13T16:00:00.000Z'}}]"
      ]
     },
     "metadata": {},
     "execution_count": 5
    }
   ],
   "metadata": {}
  },
  {
   "cell_type": "code",
   "execution_count": 13,
   "source": [
    "news_title_sub = [x['meta']['title'] + '. ' + x['meta']['subtitle'] for x in news]"
   ],
   "outputs": [],
   "metadata": {}
  },
  {
   "cell_type": "code",
   "execution_count": 17,
   "source": [
    "sents = get_sentiment(news_title_sub[:50])\n",
    "sents = np.array(sents)"
   ],
   "outputs": [],
   "metadata": {}
  },
  {
   "cell_type": "code",
   "execution_count": 18,
   "source": [
    "sents"
   ],
   "outputs": [
    {
     "output_type": "execute_result",
     "data": {
      "text/plain": [
       "array([[0.54619062, 0.24516086, 0.20864849],\n",
       "       [0.0560513 , 0.48141837, 0.46253031],\n",
       "       [0.50636768, 0.04279299, 0.45083931],\n",
       "       [0.02154092, 0.71510255, 0.26335651],\n",
       "       [0.01899145, 0.67879933, 0.3022092 ],\n",
       "       [0.50620818, 0.00948215, 0.48430964],\n",
       "       [0.80133653, 0.1040437 , 0.09461977],\n",
       "       [0.06027924, 0.76527202, 0.17444879],\n",
       "       [0.94687861, 0.02966108, 0.0234603 ],\n",
       "       [0.0325848 , 0.93383282, 0.03358241]])"
      ]
     },
     "metadata": {},
     "execution_count": 18
    }
   ],
   "metadata": {}
  },
  {
   "cell_type": "code",
   "execution_count": 10,
   "source": [
    "colors = ['positive', 'negative', 'neutral']\n",
    "plt.hist(sents[:, [0, 1]], histtype = 'bar', stacked=True, label = colors)\n",
    "plt.legend()"
   ],
   "outputs": [
    {
     "output_type": "execute_result",
     "data": {
      "text/plain": [
       "<matplotlib.legend.Legend at 0x7f2966c421d0>"
      ]
     },
     "metadata": {},
     "execution_count": 10
    },
    {
     "output_type": "display_data",
     "data": {
      "image/png": "[encoded data removed]",
      "text/plain": [
       "<Figure size 432x288 with 1 Axes>"
      ]
     },
     "metadata": {
      "needs_background": "light"
     }
    }
   ],
   "metadata": {}
  },
  {
   "cell_type": "code",
   "execution_count": 11,
   "source": [
    "plt.hist(sents[:, 0] - sents[:, 1], histtype = 'bar')\n",
    "plt.legend()"
   ],
   "outputs": [
    {
     "output_type": "stream",
     "name": "stderr",
     "text": [
      "No artists with labels found to put in legend.  Note that artists whose label start with an underscore are ignored when legend() is called with no argument.\n"
     ]
    },
    {
     "output_type": "execute_result",
     "data": {
      "text/plain": [
       "<matplotlib.legend.Legend at 0x7f2963cbb310>"
      ]
     },
     "metadata": {},
     "execution_count": 11
    },
    {
     "output_type": "display_data",
     "data": {
      "image/png": "[encoded data removed]",
      "text/plain": [
       "<Figure size 432x288 with 1 Axes>"
      ]
     },
     "metadata": {
      "needs_background": "light"
     }
    }
   ],
   "metadata": {}
  },
  {
   "cell_type": "code",
   "execution_count": 40,
   "source": [
    "len(sents)"
   ],
   "outputs": [
    {
     "output_type": "execute_result",
     "data": {
      "text/plain": [
       "1000"
      ]
     },
     "metadata": {},
     "execution_count": 40
    }
   ],
   "metadata": {}
  },
  {
   "cell_type": "code",
   "execution_count": 42,
   "source": [
    "counts = {i: news_title_sub.count(i) for i in news_title_sub}\n",
    "{k: v for k, v in counts.items() if v > 1}"
   ],
   "outputs": [
    {
     "output_type": "execute_result",
     "data": {
      "text/plain": [
       "{}"
      ]
     },
     "metadata": {},
     "execution_count": 42
    }
   ],
   "metadata": {}
  },
  {
   "cell_type": "code",
   "execution_count": null,
   "source": [
    "NewsPlease."
   ],
   "outputs": [],
   "metadata": {}
  }
 ],
 "metadata": {
  "orig_nbformat": 4,
  "language_info": {
   "name": "python",
   "version": "3.7.13",
   "mimetype": "text/x-python",
   "codemirror_mode": {
    "name": "ipython",
    "version": 3
   },
   "pygments_lexer": "ipython3",
   "nbconvert_exporter": "python",
   "file_extension": ".py"
  },
  "kernelspec": {
   "name": "python3",
   "display_name": "Python 3.7.13 64-bit ('group_practical': conda)"
  },
  "interpreter": {
   "hash": "3abe2fc45ef8f7b9c9ffb4b5ab4d4a0cc498ff560b26e636219f492286e85227"
  }
 },
 "nbformat": 4,
 "nbformat_minor": 2
}