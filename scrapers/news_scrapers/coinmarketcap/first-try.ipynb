{
 "cells": [
  {
   "cell_type": "code",
   "execution_count": 92,
   "source": [
    "from newsplease import NewsPlease\n",
    "import requests\n",
    "from bs4 import BeautifulSoup\n",
    "import json\n",
    "import re\n",
    "import numpy as np \n",
    "import matplotlib.pyplot as plt\n",
    "from sklearn.neighbors import KernelDensity\n",
    "\n",
    "# from selenium.webdriver import Chrome\n",
    "# from selenium.webdriver.chrome.options import Options"
   ],
   "outputs": [],
   "metadata": {}
  },
  {
   "cell_type": "code",
   "execution_count": 7,
   "source": [
    "from NewsSentiment import TargetSentimentClassifier\n",
    "tsc = TargetSentimentClassifier()\n"
   ],
   "outputs": [
    {
     "output_type": "stream",
     "name": "stderr",
     "text": [
      "/home/felipenuti/miniconda3/envs/group_practical/lib/python3.7/site-packages/tqdm/auto.py:22: TqdmWarning: IProgress not found. Please update jupyter and ipywidgets. See https://ipywidgets.readthedocs.io/en/stable/user_install.html\n",
      "  from .autonotebook import tqdm as notebook_tqdm\n",
      "Some weights of the model checkpoint at roberta-base were not used when initializing RobertaModel: ['lm_head.layer_norm.bias', 'lm_head.dense.weight', 'lm_head.decoder.weight', 'lm_head.bias', 'lm_head.dense.bias', 'lm_head.layer_norm.weight']\n",
      "- This IS expected if you are initializing RobertaModel from the checkpoint of a model trained on another task or with another architecture (e.g. initializing a BertForSequenceClassification model from a BertForPreTraining model).\n",
      "- This IS NOT expected if you are initializing RobertaModel from the checkpoint of a model that you expect to be exactly identical (initializing a BertForSequenceClassification model from a BertForSequenceClassification model).\n"
     ]
    }
   ],
   "metadata": {}
  },
  {
   "cell_type": "code",
   "execution_count": 4,
   "source": [
    "# url = \"https://coinmarketcap.com/currencies/ethereum/news/\"\n",
    "\n",
    "# chrome_options = Options()\n",
    "# chrome_options.add_argument(\"--headless\")\n",
    "\n",
    "# with Chrome(options = chrome_options) as browser:\n",
    "#     browser.get(url)\n",
    "#     html = browser.page_source\n",
    "\n",
    "# soup = BeautifulSoup(html, 'html.parser')"
   ],
   "outputs": [],
   "metadata": {}
  },
  {
   "cell_type": "code",
   "execution_count": 138,
   "source": [
    "url = \"https://api.coinmarketcap.com/content/v3/news?coins=1027&page=1&size=200\"\n",
    "res = requests.get(url)"
   ],
   "outputs": [],
   "metadata": {}
  },
  {
   "cell_type": "code",
   "execution_count": 139,
   "source": [
    "news_data = json.loads(res.text)['data']\n",
    "len(news_data)"
   ],
   "outputs": [
    {
     "output_type": "execute_result",
     "data": {
      "text/plain": [
       "200"
      ]
     },
     "metadata": {},
     "execution_count": 139
    }
   ],
   "metadata": {}
  },
  {
   "cell_type": "code",
   "execution_count": 140,
   "source": [
    "def find_sentiment(sentence, entity):\n",
    "    output = tsc.infer(text_left = \"\", target_mention=entity, text_right = \"\\ \"+ sentence)#article.maintext)\n",
    "    results = \"\"\n",
    "    pos = 0\n",
    "    neg = 0\n",
    "    for x in output:\n",
    "        results += \"{}: {} | \".format(x['class_label'], x['class_prob'])\n",
    "        if x['class_label'] == 'negative':\n",
    "            neg = x['class_prob']\n",
    "        elif x['class_label'] == 'positive':\n",
    "            pos = x['class_prob']\n",
    "    return (results, [pos, neg])\n",
    "\n",
    "def test_newsentiment():\n",
    "    idx = np.random.randint(0, len(news_data))\n",
    "    example_news = news_data[idx]\n",
    "    article = NewsPlease.from_url(example_news['meta']['sourceUrl'])\n",
    "    sentences = [ x.strip().replace('\\n', '') for x in re.split('\\.[^0-9]', article.maintext) if x != '']\n",
    "    #print(sentences)\n",
    "    n_sentences = len(sentences)\n",
    "    sents = []\n",
    "    for i, sentence in enumerate(sentences):\n",
    "        if sentence == None:\n",
    "            continue\n",
    "        results_eth, point = find_sentiment(sentence, \"Ethereum\")\n",
    "        results_btc, _ = find_sentiment(sentence, \"Bitcoin\")\n",
    "        print(results_eth + \"\\n\" + results_btc + \"\\n\" + sentence + \"\\n\")\n",
    "\n",
    "        sents.append([i/n_sentences] + point)\n",
    "        #left += \". \" + sentence\n",
    "    return np.array(sents)"
   ],
   "outputs": [],
   "metadata": {}
  },
  {
   "cell_type": "code",
   "execution_count": 141,
   "source": [
    "sents = test_newsentiment()"
   ],
   "outputs": [
    {
     "output_type": "stream",
     "name": "stderr",
     "text": [
      "/home/felipenuti/miniconda3/envs/group_practical/lib/python3.7/site-packages/transformers/tokenization_utils_base.py:2277: FutureWarning: The `pad_to_max_length` argument is deprecated and will be removed in a future version, use `padding=True` or `padding='longest'` to pad to the longest sequence in the batch, or use `padding='max_length'` to pad to a max length. In this case, you can give a specific length with `max_length` (e.g. `max_length=45`) or leave max_length to None to pad to the maximal input size of the model (e.g. 512 for Bert).\n",
      "  FutureWarning,\n"
     ]
    },
    {
     "output_type": "stream",
     "name": "stdout",
     "text": [
      "positive: 0.533574640750885 | neutral: 0.4417145848274231 | negative: 0.02471071109175682 | \n",
      "neutral: 0.5775608420372009 | positive: 0.3873177468776703 | negative: 0.03512139618396759 | \n",
      "Led by Delphi Digital’s venture arm, zkLend has just raised $5 million in a seed round, with participation from Starkware and Three Arrows Capital\n",
      "\n",
      "neutral: 0.7141804099082947 | positive: 0.26888272166252136 | negative: 0.016936881467700005 | \n",
      "neutral: 0.7910856604576111 | positive: 0.1833665668964386 | negative: 0.025547794997692108 | \n",
      "Alameda Research, MetaCartel DAO, Amber Group, Genesis Block Ventures, and others also joined in the raise\n",
      "\n",
      "neutral: 0.5739096999168396 | positive: 0.3171256184577942 | negative: 0.1089646965265274 | \n",
      "neutral: 0.8050819039344788 | positive: 0.11810553073883057 | negative: 0.07681255787611008 | \n",
      "The crypto money market is similar to current iterations like Aave or Compound, except zkLend is built using an Ethereum-centric scaling technology called zk-rollups\n",
      "\n",
      "neutral: 0.4675791263580322 | positive: 0.3904462456703186 | negative: 0.14197462797164917 | \n",
      "positive: 0.5220695734024048 | neutral: 0.36385592818260193 | negative: 0.11407454311847687 | \n",
      "These are what’s known as a “layer 2” solution as they move transactions off of Ethereum’s mainnet (or “layer 1”) onto sidechains to reduce network congestion\n",
      "\n",
      "neutral: 0.8788785338401794 | negative: 0.0754779651761055 | positive: 0.04564349353313446 | \n",
      "neutral: 0.847848653793335 | negative: 0.10668983310461044 | positive: 0.045461513102054596 | \n",
      "Every so often, evidence of transactions made on a rollup is then turned into a single transaction and sent to the mainnet to be verified\n",
      "\n",
      "neutral: 0.9399409294128418 | positive: 0.039917875081300735 | negative: 0.020141229033470154 | \n",
      "neutral: 0.9354060292243958 | positive: 0.0348714180290699 | negative: 0.029722604900598526 | \n",
      "The specific iteration of zk-Rollups that zkLend will use has been built by the developer group Starkware\n",
      "\n",
      "neutral: 0.5235441327095032 | positive: 0.45225444436073303 | negative: 0.024201419204473495 | \n",
      "neutral: 0.6221042275428772 | positive: 0.345612108707428 | negative: 0.03228359296917915 | \n",
      "With its latest funding in hand, zkLend will launch its permissionless lending product in Q3 2022\n",
      "\n",
      "positive: 0.5831920504570007 | neutral: 0.382529616355896 | negative: 0.03427833691239357 | \n",
      "neutral: 0.49103930592536926 | positive: 0.4609554708003998 | negative: 0.04800524190068245 | \n",
      "This retail-facing product, called Artemis, will let users earn interest on various cryptocurrencies\n",
      "\n",
      "neutral: 0.7688524723052979 | positive: 0.18990656733512878 | negative: 0.041241005063056946 | \n",
      "neutral: 0.7687616944313049 | positive: 0.18319876492023468 | negative: 0.0480395071208477 | \n",
      "The first iteration will include stablecoins, Ethereum, and Bitcoin, a co-founder and co-project lead at zkLend Brian Fu told Decrypt\n",
      "\n",
      "neutral: 0.7661378383636475 | positive: 0.1856294423341751 | negative: 0.048232704401016235 | \n",
      "neutral: 0.7513756155967712 | positive: 0.20628514885902405 | negative: 0.04233928769826889 | \n",
      "After that, the team will roll out similar offerings “to cover the most traded assets within the Ethereum Layer 1 and Layer 2 ecosystems,” he added\n",
      "\n",
      "neutral: 0.8581348657608032 | positive: 0.09886235743761063 | negative: 0.043002814054489136 | \n",
      "neutral: 0.8602175116539001 | positive: 0.08740260452032089 | negative: 0.05237985774874687 | \n",
      "The final iteration will include smaller “long-tailed assets\n",
      "\n",
      "neutral: 0.7749667167663574 | positive: 0.20478399097919464 | negative: 0.020249271765351295 | \n",
      "neutral: 0.8310707807540894 | positive: 0.14555037021636963 | negative: 0.023378901183605194 | \n",
      "zkLend is will also launch an institutional product called Apollo in early 2023\n",
      "\n",
      "neutral: 0.8702024221420288 | positive: 0.09277142584323883 | negative: 0.037026092410087585 | \n",
      "neutral: 0.9053688049316406 | positive: 0.05924366042017937 | negative: 0.03538746014237404 | \n",
      "Unlike Artemis, Apollo will require interested entities to perform standard AML and KYC standards\n",
      "\n",
      "neutral: 0.5989599823951721 | positive: 0.3869347870349884 | negative: 0.014105224050581455 | \n",
      "neutral: 0.8037952184677124 | positive: 0.17919346690177917 | negative: 0.017011359333992004 | \n",
      "“We envision Apollo to draw in more crypto-native institutions such as funds, prop shops, and market makers as our first users,” Fu said\n",
      "\n",
      "neutral: 0.8158280253410339 | positive: 0.15331123769283295 | negative: 0.030860694125294685 | \n",
      "neutral: 0.8736422657966614 | positive: 0.09272154420614243 | negative: 0.03363620489835739 | \n",
      "After that, though, Apollo is focused on attracting more traditional players\n",
      "\n",
      "neutral: 0.49137404561042786 | positive: 0.4672609865665436 | negative: 0.04136504977941513 | \n",
      "positive: 0.4763641059398651 | neutral: 0.4645310342311859 | negative: 0.05910484865307808 | \n",
      "“We believe there is a massive opportunity with banks, private debt players, payments service providers in the traditional space, not to mention family offices, and private investment and/or corporate treasury arms of smaller private companies,” said Fu\n",
      "\n",
      "positive: 0.6396874189376831 | neutral: 0.3037480413913727 | negative: 0.0565645694732666 | \n",
      "positive: 0.608583927154541 | neutral: 0.32669880986213684 | negative: 0.06471726298332214 | \n",
      "zkLend takes on DeFi ‘blue chips’Attempting to overtake popular money markets currently available will be challenging, but Fu and his team hope zkLend will attract users for more than just its ability to scale quickly\n",
      "\n",
      "positive: 0.6562115550041199 | neutral: 0.27539968490600586 | negative: 0.06838870793581009 | \n",
      "positive: 0.5782991051673889 | neutral: 0.3367213010787964 | negative: 0.08497961610555649 | \n",
      "For one, the Artemis product “will target DeFi protocol-to-protocol lending once fully established, addressing the debt financing needs of ‘blue chip’ DeFi protocols while enabling them to make their treasury assets more productive through lending,” said Fu\n",
      "\n",
      "neutral: 0.8348040580749512 | positive: 0.14944761991500854 | negative: 0.015748344361782074 | \n",
      "neutral: 0.864316463470459 | positive: 0.11122027784585953 | negative: 0.02446325123310089 | \n",
      "He added that Apollo will also unlock under-collateralized borrowing thanks to its “robust KYC vetting process and on-chain verification\n",
      "\n",
      "neutral: 0.7600157260894775 | positive: 0.12103424221277237 | negative: 0.11895011365413666 | \n",
      "neutral: 0.7143300771713257 | negative: 0.16302375495433807 | positive: 0.12264622747898102 | \n",
      "This variety of borrowing is common in traditional finance but has yet to really take off in the world of crypto\n",
      "\n",
      "neutral: 0.6653269529342651 | negative: 0.18621112406253815 | positive: 0.14846190810203552 | \n",
      "neutral: 0.6181223392486572 | negative: 0.2401455044746399 | positive: 0.14173215627670288 | \n",
      "Instead, users are expected to provide more collateral than the amount that they would be borrowing (called over-collateralization)\n",
      "\n",
      "positive: 0.6405714154243469 | neutral: 0.33426207304000854 | negative: 0.025166582316160202 | \n",
      "positive: 0.6016451120376587 | neutral: 0.3699570596218109 | negative: 0.02839786559343338 | \n",
      "zkLend will also employ “dedicated institutional reps” to help larger institutions join the platform, said Fu\n",
      "\n",
      "positive: 0.8409698605537415 | neutral: 0.13810576498508453 | negative: 0.02092433162033558 | \n",
      "positive: 0.8287786245346069 | neutral: 0.14984087646007538 | negative: 0.021380513906478882 | \n",
      "The dedicated staff will serve to \"bridge the compliance requirements specific to each institution, provide assistance and oversee the onboarding process, and integrate the protocol’s lending and borrowing capabilities with the institutions’ business operations,\" he added\n",
      "\n",
      "neutral: 0.5465235114097595 | positive: 0.40401342511177063 | negative: 0.04946308955550194 | \n",
      "neutral: 0.5037603378295898 | positive: 0.4236048758029938 | negative: 0.072634756565094 | \n",
      "After that, like many popular DeFi platforms, zkLend will implement a native token, called ZEND, to incentivize users to add their liquidity\n",
      "\n",
      "positive: 0.5629333257675171 | neutral: 0.39656203985214233 | negative: 0.04050469025969505 | \n",
      "positive: 0.5583236217498779 | neutral: 0.3851466476917267 | negative: 0.05652973800897598 | \n",
      "According to marketing materials, this token will be used to vote on proposals, boost rates for holders, revenue sharing, and staking rewards\n",
      "\n",
      "neutral: 0.9480732679367065 | positive: 0.027613753452897072 | negative: 0.024313008412718773 | \n",
      "neutral: 0.9524999260902405 | negative: 0.026107309386134148 | positive: 0.021392716094851494 | \n",
      "The token isn't yet public, but dates will soon be announced, according to Fu.\n",
      "\n"
     ]
    }
   ],
   "metadata": {}
  },
  {
   "cell_type": "code",
   "execution_count": 142,
   "source": [
    "kde = KernelDensity(kernel = 'epanechnikov', bandwidth=100).fit(sents[:, [0, 1]])\n",
    "plt.plot(sents[:, [1, 2]])"
   ],
   "outputs": [
    {
     "output_type": "execute_result",
     "data": {
      "text/plain": [
       "[<matplotlib.lines.Line2D at 0x7f792f776650>,\n",
       " <matplotlib.lines.Line2D at 0x7f792f7b1990>]"
      ]
     },
     "metadata": {},
     "execution_count": 142
    },
    {
     "output_type": "display_data",
     "data": {
      "image/png": "[encoded data removed]",
      "text/plain": [
       "<Figure size 432x288 with 1 Axes>"
      ]
     },
     "metadata": {
      "needs_background": "light"
     }
    }
   ],
   "metadata": {}
  },
  {
   "cell_type": "code",
   "execution_count": 43,
   "source": [
    "from textblob import TextBlob"
   ],
   "outputs": [],
   "metadata": {}
  },
  {
   "cell_type": "code",
   "execution_count": 49,
   "source": [
    "def test_textblob():\n",
    "    idx = np.random.randint(0, len(news_data))\n",
    "    example_news = news_data[idx]\n",
    "    article = NewsPlease.from_url(example_news['meta']['sourceUrl'])\n",
    "    sentences = [ x.strip().replace('\\n', '') for x in article.maintext.split('. ') if x != '']\n",
    "    left = \"\"\n",
    "    for sentence in sentences:\n",
    "        tb = TextBlob(sentence)\n",
    "        output = tb.sentiment\n",
    "        print(str(output) + \" \" + sentence + \"\\n\")\n",
    "        left += \". \" + sentence\n",
    "    print(TextBlob(article.maintext).sentiment)"
   ],
   "outputs": [],
   "metadata": {}
  },
  {
   "cell_type": "code",
   "execution_count": 55,
   "source": [
    "test_textblob()"
   ],
   "outputs": [
    {
     "output_type": "stream",
     "name": "stdout",
     "text": [
      "Sentiment(polarity=0.0, subjectivity=0.0) The Ethereum blockchain network is on the cusp of adopting a proof-of-stake consensus mechanism\n",
      "\n",
      "Sentiment(polarity=0.0, subjectivity=0.06666666666666667) “The merge,” as the combination of Ethereum’s execution and consensus layers is called, is already in its last leg of implementation.Ethereum begins to work on post-merge upgradesThis is according to an update from Ethereum core developer, Tim Beiko\n",
      "\n",
      "Sentiment(polarity=0.04545454545454545, subjectivity=0.19595959595959597) Beiko reiterated that the Kiln testnet would be the last new public testnet for trying out the merge.The Kiln testnet was being monitored as it went through its paces, he added\n",
      "\n",
      "Sentiment(polarity=0.08333333333333333, subjectivity=0.16666666666666666) Several projects including Kurtosis, Tenderly, Lido, Uniswap, EthStaker, Infura, and Blockdaemon have been testing their projects on the testnet, and developers were on hand to fix any bugs.Our main priority remains The Merge, with a renewed focus on testing\n",
      "\n",
      "Sentiment(polarity=0.0, subjectivity=0.0) Over the next month, we are hoping to finalize implementations, run multiple short-lived devnets, and gather feedback from application, infrastructure, and tooling providers, Beiko said\n",
      "\n",
      "Sentiment(polarity=0.4, subjectivity=0.45) advertisement Find Next Crypto Gem on KuCoin! Sign up to Claim $500 Welcome Bonus.While there is no date for when all the kinks will be worked out, the long-postponed difficulty bomb will soon be implemented\n",
      "\n",
      "Sentiment(polarity=0.16666666666666669, subjectivity=0.5333333333333333) Beiko estimated that the impact of the upgrade, which is to make Ether mining less rewarding, should begin to be felt from June.Meanwhile, Ethereum’s developers are already looking into the post-Merge era for the blockchain\n",
      "\n",
      "Sentiment(polarity=0.0, subjectivity=0.0) Beiko highlighted that work on Shanghai Upgrade has commenced in the background\n",
      "\n",
      "Sentiment(polarity=0.28125, subjectivity=0.5) Describing it as ” one of the largest upgrades to date,” he noted that it would bring three major changes to Ethereum that would span both execution and consensus layer.These changes which include EVM upgrades, Beacon Chain Withdrawals, and L2 Fee Reductions will mark the start of Ethereum’s journey to greater scalability and reduced transaction fees\n",
      "\n",
      "Sentiment(polarity=0.025000000000000005, subjectivity=0.4583333333333333) Other smaller changes from Ethereum Improvement Proposals (EIPs) being worked on will also be bundled in Shanghai.Additionally, the ecosystem is ready to launch Protocol Guild, which is an initiative to “provide client developers and researchers with token-based compensation.”ETH price receives a boost from growing anticipationThe merge has been one of the centers of attention in the crypto market\n",
      "\n",
      "Sentiment(polarity=0.16, subjectivity=0.5399999999999999) Google Trends data shows that searches for the term “Ethereum merge” are at an all-time high at the moment.With all the excitement around the merge, it is no surprise that the price of Ether has been on the rise\n",
      "\n",
      "Sentiment(polarity=0.0, subjectivity=0.06666666666666667) In the last month, ETH is up 33.4%\n",
      "\n",
      "Sentiment(polarity=-0.08055555555555556, subjectivity=0.33055555555555555) It is currently trading at around $3,100, down 0.67% on the day.Disclaimer The presented content may include the personal opinion of the author and is subject to market condition\n",
      "\n",
      "Sentiment(polarity=0.0, subjectivity=0.0) Do your market research before investing in cryptocurrencies\n",
      "\n",
      "Sentiment(polarity=0.0, subjectivity=0.15) The author or the publication does not hold any responsibility for your personal financial loss.\n",
      "\n",
      "Sentiment(polarity=0.07646565656565658, subjectivity=0.3023373737373737)\n"
     ]
    }
   ],
   "metadata": {}
  },
  {
   "cell_type": "code",
   "execution_count": 66,
   "source": [
    "TextBlob(\"Ethereum is surreal\").sentiment"
   ],
   "outputs": [
    {
     "output_type": "execute_result",
     "data": {
      "text/plain": [
       "Sentiment(polarity=0.25, subjectivity=1.0)"
      ]
     },
     "metadata": {},
     "execution_count": 66
    }
   ],
   "metadata": {}
  },
  {
   "cell_type": "code",
   "execution_count": 23,
   "source": [
    "idx = np.random.randint(0, len(news_data))\n",
    "example_news = news_data[idx]\n",
    "article = NewsPlease.from_url(example_news['meta']['sourceUrl'])"
   ],
   "outputs": [],
   "metadata": {}
  },
  {
   "cell_type": "code",
   "execution_count": 24,
   "source": [
    "example_news['meta']['sourceUrl']"
   ],
   "outputs": [
    {
     "output_type": "execute_result",
     "data": {
      "text/plain": [
       "'https://zycrypto.com/wen-merge-ethereum-wraps-up-major-allcoredevs-session-as-move-to-pos-propels-giant-strides/'"
      ]
     },
     "metadata": {},
     "execution_count": 24
    }
   ],
   "metadata": {}
  },
  {
   "cell_type": "code",
   "execution_count": 25,
   "source": [
    "article.maintext"
   ],
   "outputs": [
    {
     "output_type": "execute_result",
     "data": {
      "text/plain": [
       "'Advertisement\\nEthereum’s team has completed an AllCoreDev meeting with key areas of interest covered.\\nThe call covered the shadow forks on Goerli and how to handle EL clients and difficulty bombs amongst others.\\nEthereum is edging closer towards a transition to proof of stake in the near future.\\nEthereum has inched towards the transition to the Proof-of-Stake Consensus Layer with the conclusion of another ‘AllCoreDevs’ session. The details were shared by top Ethereum programmer Tim Beiko and touched on several key areas.\\nThe AllCoreDevs Call\\nTim Beiko, a leading Ethereum developer hosted a meeting of core Ethereum devs that began with an update on the testing of the Merge hard fork. As part of the testing process, the developers “shadow forked” Goerli, allowing “client teams to experience issues with block production logic and differing timeout expectations.”\\nThe shadow merge will allow devs to spot issues that might crop up easily and after two shadow forks, a third is being planned for the next week. In the coming weeks, a mainnet shadow fork will be carried out to record data in mainnet conditions, according to Tim Beiko.\\nBeiko noted that “there are some issues in setting explicit timeouts, as it opens attack vectors to try and create blocks” and while a solution has not been reached, the team will work hard to reach a conclusion.\\nTalks were carried out over timelines and difficulty bombs with the devs trying to opine when the next increment would take place. Beiko argued that while bombs increase every 100,000 blocks, hashrates coming and leaving the network often have the unintended consequence of affecting the outcome of the bomb. Beiko believes that when miners begin to sell their GPUs following the Merge, it is expected that hash rates will drop and will affect the predictions.\\nAdvertisement\\n“So, with all these caveats, if we make some rough estimations, we can expect block times to hit 15s in early July and 17s in late July. Again, large error bars here!” said Beiko.\\nWhen Should The Merge Be Expected\\nWhile an exact date has not been put forward, it is believed that the switch to Proof-of-Stake is bound to happen sometime in 2022. Tim Beiko predicts that the Merge could take place over the summer while others have narrowed their prediction to May or June.\\n“We think four months is a generous timeframe from having the code done to seeing the merge on mainnet,” Beiko said. With the merge test running smoothly and the Kiln testnet done, pundits cannot see any major stumbling blocks against Ethereum’s proposed switch.\\nAhead of the switch, ETH has become the second most staked asset with a staked value of $37 billion according to StakingRewards. Only Solana’s SOL ranks higher than it with a stake value of $52.02 billion.'"
      ]
     },
     "metadata": {},
     "execution_count": 25
    }
   ],
   "metadata": {}
  },
  {
   "cell_type": "code",
   "execution_count": 26,
   "source": [
    "sentences = [ x.strip().replace('\\n', '') for x in article.maintext.split('. ') if x != '']\n",
    "sentences"
   ],
   "outputs": [
    {
     "output_type": "execute_result",
     "data": {
      "text/plain": [
       "['AdvertisementEthereum’s team has completed an AllCoreDev meeting with key areas of interest covered.The call covered the shadow forks on Goerli and how to handle EL clients and difficulty bombs amongst others.Ethereum is edging closer towards a transition to proof of stake in the near future.Ethereum has inched towards the transition to the Proof-of-Stake Consensus Layer with the conclusion of another ‘AllCoreDevs’ session',\n",
       " 'The details were shared by top Ethereum programmer Tim Beiko and touched on several key areas.The AllCoreDevs CallTim Beiko, a leading Ethereum developer hosted a meeting of core Ethereum devs that began with an update on the testing of the Merge hard fork',\n",
       " 'As part of the testing process, the developers “shadow forked” Goerli, allowing “client teams to experience issues with block production logic and differing timeout expectations.”The shadow merge will allow devs to spot issues that might crop up easily and after two shadow forks, a third is being planned for the next week',\n",
       " 'In the coming weeks, a mainnet shadow fork will be carried out to record data in mainnet conditions, according to Tim Beiko.Beiko noted that “there are some issues in setting explicit timeouts, as it opens attack vectors to try and create blocks” and while a solution has not been reached, the team will work hard to reach a conclusion.Talks were carried out over timelines and difficulty bombs with the devs trying to opine when the next increment would take place',\n",
       " 'Beiko argued that while bombs increase every 100,000 blocks, hashrates coming and leaving the network often have the unintended consequence of affecting the outcome of the bomb',\n",
       " 'Beiko believes that when miners begin to sell their GPUs following the Merge, it is expected that hash rates will drop and will affect the predictions.Advertisement“So, with all these caveats, if we make some rough estimations, we can expect block times to hit 15s in early July and 17s in late July',\n",
       " 'Again, large error bars here!” said Beiko.When Should The Merge Be ExpectedWhile an exact date has not been put forward, it is believed that the switch to Proof-of-Stake is bound to happen sometime in 2022',\n",
       " 'Tim Beiko predicts that the Merge could take place over the summer while others have narrowed their prediction to May or June.“We think four months is a generous timeframe from having the code done to seeing the merge on mainnet,” Beiko said',\n",
       " 'With the merge test running smoothly and the Kiln testnet done, pundits cannot see any major stumbling blocks against Ethereum’s proposed switch.Ahead of the switch, ETH has become the second most staked asset with a staked value of $37 billion according to StakingRewards',\n",
       " 'Only Solana’s SOL ranks higher than it with a stake value of $52.02 billion.']"
      ]
     },
     "metadata": {},
     "execution_count": 26
    }
   ],
   "metadata": {}
  },
  {
   "cell_type": "code",
   "execution_count": 30,
   "source": [
    "for sentence in sentences:\n",
    "    if sentence == None:\n",
    "        continue\n",
    "    output = tsc.infer(text_left = \"\", target_mention=\"Ethereum\", text_right = \" \"+ sentence)#article.maintext)\n",
    "    results = \"\"\n",
    "    for x in output:\n",
    "        results += \"{}: {} | \".format(x['class_label'], x['class_prob'])\n",
    "    print(results + \" \" + sentence + \"\\n\")"
   ],
   "outputs": [
    {
     "output_type": "stream",
     "name": "stdout",
     "text": [
      "positive: 0.5666216015815735 | neutral: 0.40359145402908325 | negative: 0.02978700026869774 |  AdvertisementEthereum’s team has completed an AllCoreDev meeting with key areas of interest covered.The call covered the shadow forks on Goerli and how to handle EL clients and difficulty bombs amongst others.Ethereum is edging closer towards a transition to proof of stake in the near future.Ethereum has inched towards the transition to the Proof-of-Stake Consensus Layer with the conclusion of another ‘AllCoreDevs’ session\n",
      "\n",
      "neutral: 0.7989212274551392 | positive: 0.17525121569633484 | negative: 0.025827588513493538 |  The details were shared by top Ethereum programmer Tim Beiko and touched on several key areas.The AllCoreDevs CallTim Beiko, a leading Ethereum developer hosted a meeting of core Ethereum devs that began with an update on the testing of the Merge hard fork\n",
      "\n",
      "neutral: 0.573657214641571 | negative: 0.22866269946098328 | positive: 0.19768007099628448 |  As part of the testing process, the developers “shadow forked” Goerli, allowing “client teams to experience issues with block production logic and differing timeout expectations.”The shadow merge will allow devs to spot issues that might crop up easily and after two shadow forks, a third is being planned for the next week\n",
      "\n",
      "neutral: 0.8228065371513367 | negative: 0.100180484354496 | positive: 0.07701300084590912 |  In the coming weeks, a mainnet shadow fork will be carried out to record data in mainnet conditions, according to Tim Beiko.Beiko noted that “there are some issues in setting explicit timeouts, as it opens attack vectors to try and create blocks” and while a solution has not been reached, the team will work hard to reach a conclusion.Talks were carried out over timelines and difficulty bombs with the devs trying to opine when the next increment would take place\n",
      "\n",
      "neutral: 0.5187559127807617 | negative: 0.41421040892601013 | positive: 0.06703363358974457 |  Beiko argued that while bombs increase every 100,000 blocks, hashrates coming and leaving the network often have the unintended consequence of affecting the outcome of the bomb\n",
      "\n",
      "neutral: 0.726852297782898 | negative: 0.18327923119068146 | positive: 0.08986852318048477 |  Beiko believes that when miners begin to sell their GPUs following the Merge, it is expected that hash rates will drop and will affect the predictions.Advertisement“So, with all these caveats, if we make some rough estimations, we can expect block times to hit 15s in early July and 17s in late July\n",
      "\n",
      "neutral: 0.6981425285339355 | negative: 0.2162020057439804 | positive: 0.08565553277730942 |  Again, large error bars here!” said Beiko.When Should The Merge Be ExpectedWhile an exact date has not been put forward, it is believed that the switch to Proof-of-Stake is bound to happen sometime in 2022\n",
      "\n",
      "neutral: 0.8689967393875122 | positive: 0.10883327573537827 | negative: 0.02217002399265766 |  Tim Beiko predicts that the Merge could take place over the summer while others have narrowed their prediction to May or June.“We think four months is a generous timeframe from having the code done to seeing the merge on mainnet,” Beiko said\n",
      "\n",
      "negative: 0.41750261187553406 | positive: 0.3441804051399231 | neutral: 0.23831701278686523 |  With the merge test running smoothly and the Kiln testnet done, pundits cannot see any major stumbling blocks against Ethereum’s proposed switch.Ahead of the switch, ETH has become the second most staked asset with a staked value of $37 billion according to StakingRewards\n",
      "\n",
      "neutral: 0.7990251779556274 | negative: 0.13186489045619965 | positive: 0.06910993903875351 |  Only Solana’s SOL ranks higher than it with a stake value of $52.02 billion.\n",
      "\n"
     ]
    }
   ],
   "metadata": {}
  },
  {
   "cell_type": "code",
   "execution_count": 29,
   "source": [
    "s = json.loads(soup.find('script', id = '__NEXT_DATA__').text)"
   ],
   "outputs": [],
   "metadata": {}
  },
  {
   "cell_type": "code",
   "execution_count": 31,
   "source": [
    "with open('test.html', 'w') as file:\n",
    "    file.write(soup.prettify())"
   ],
   "outputs": [],
   "metadata": {}
  },
  {
   "cell_type": "code",
   "execution_count": 43,
   "source": [
    "article.maintext.split([\".\", \"\\n\"])"
   ],
   "outputs": [
    {
     "output_type": "error",
     "ename": "TypeError",
     "evalue": "must be str or None, not list",
     "traceback": [
      "\u001b[0;31m---------------------------------------------------------------------------\u001b[0m",
      "\u001b[0;31mTypeError\u001b[0m                                 Traceback (most recent call last)",
      "\u001b[0;32m/tmp/ipykernel_16738/2568983176.py\u001b[0m in \u001b[0;36m<module>\u001b[0;34m\u001b[0m\n\u001b[0;32m----> 1\u001b[0;31m \u001b[0marticle\u001b[0m\u001b[0;34m.\u001b[0m\u001b[0mmaintext\u001b[0m\u001b[0;34m.\u001b[0m\u001b[0msplit\u001b[0m\u001b[0;34m(\u001b[0m\u001b[0;34m[\u001b[0m\u001b[0;34m\".\"\u001b[0m\u001b[0;34m,\u001b[0m \u001b[0;34m\"\\n\"\u001b[0m\u001b[0;34m]\u001b[0m\u001b[0;34m)\u001b[0m\u001b[0;34m\u001b[0m\u001b[0;34m\u001b[0m\u001b[0m\n\u001b[0m",
      "\u001b[0;31mTypeError\u001b[0m: must be str or None, not list"
     ]
    }
   ],
   "metadata": {}
  },
  {
   "cell_type": "code",
   "execution_count": 46,
   "source": [
    "res = requests.head(\"https://coinmarketcap.com/currencies/ethereum/news/\")"
   ],
   "outputs": [],
   "metadata": {}
  },
  {
   "cell_type": "code",
   "execution_count": 47,
   "source": [
    "res.text"
   ],
   "outputs": [
    {
     "output_type": "execute_result",
     "data": {
      "text/plain": [
       "''"
      ]
     },
     "metadata": {},
     "execution_count": 47
    }
   ],
   "metadata": {}
  },
  {
   "cell_type": "code",
   "execution_count": 45,
   "source": [
    "import torch.cuda"
   ],
   "outputs": [],
   "metadata": {}
  },
  {
   "cell_type": "code",
   "execution_count": 46,
   "source": [
    "torch.cuda.empty_cache()"
   ],
   "outputs": [],
   "metadata": {}
  },
  {
   "cell_type": "code",
   "execution_count": null,
   "source": [],
   "outputs": [],
   "metadata": {}
  }
 ],
 "metadata": {
  "orig_nbformat": 4,
  "language_info": {
   "name": "python",
   "version": "3.7.13",
   "mimetype": "text/x-python",
   "codemirror_mode": {
    "name": "ipython",
    "version": 3
   },
   "pygments_lexer": "ipython3",
   "nbconvert_exporter": "python",
   "file_extension": ".py"
  },
  "kernelspec": {
   "name": "python3",
   "display_name": "Python 3.7.13 64-bit ('group_practical': conda)"
  },
  "interpreter": {
   "hash": "3abe2fc45ef8f7b9c9ffb4b5ab4d4a0cc498ff560b26e636219f492286e85227"
  }
 },
 "nbformat": 4,
 "nbformat_minor": 2
}