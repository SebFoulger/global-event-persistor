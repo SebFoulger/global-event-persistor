{
 "cells": [
  {
   "cell_type": "code",
   "execution_count": 28,
   "source": [
    "from newsplease import NewsPlease\n",
    "import requests\n",
    "from bs4 import BeautifulSoup\n",
    "import json\n",
    "import re\n",
    "import numpy as np \n",
    "import matplotlib.pyplot as plt\n",
    "from sklearn.neighbors import KernelDensity\n",
    "from textblob import TextBlob\n",
    "\n",
    "# from selenium.webdriver import Chrome\n",
    "# from selenium.webdriver.chrome.options import Options"
   ],
   "outputs": [],
   "metadata": {}
  },
  {
   "cell_type": "code",
   "execution_count": 2,
   "source": [
    "from NewsSentiment import TargetSentimentClassifier\n",
    "tsc = TargetSentimentClassifier()\n"
   ],
   "outputs": [
    {
     "output_type": "stream",
     "name": "stderr",
     "text": [
      "/home/felipenuti/miniconda3/envs/group_practical/lib/python3.7/site-packages/tqdm/auto.py:22: TqdmWarning: IProgress not found. Please update jupyter and ipywidgets. See https://ipywidgets.readthedocs.io/en/stable/user_install.html\n",
      "  from .autonotebook import tqdm as notebook_tqdm\n",
      "Some weights of the model checkpoint at roberta-base were not used when initializing RobertaModel: ['lm_head.layer_norm.weight', 'lm_head.dense.bias', 'lm_head.dense.weight', 'lm_head.layer_norm.bias', 'lm_head.decoder.weight', 'lm_head.bias']\n",
      "- This IS expected if you are initializing RobertaModel from the checkpoint of a model trained on another task or with another architecture (e.g. initializing a BertForSequenceClassification model from a BertForPreTraining model).\n",
      "- This IS NOT expected if you are initializing RobertaModel from the checkpoint of a model that you expect to be exactly identical (initializing a BertForSequenceClassification model from a BertForSequenceClassification model).\n"
     ]
    }
   ],
   "metadata": {}
  },
  {
   "cell_type": "code",
   "execution_count": 4,
   "source": [
    "# url = \"https://coinmarketcap.com/currencies/ethereum/news/\"\n",
    "\n",
    "# chrome_options = Options()\n",
    "# chrome_options.add_argument(\"--headless\")\n",
    "\n",
    "# with Chrome(options = chrome_options) as browser:\n",
    "#     browser.get(url)\n",
    "#     html = browser.page_source\n",
    "\n",
    "# soup = BeautifulSoup(html, 'html.parser')"
   ],
   "outputs": [],
   "metadata": {}
  },
  {
   "cell_type": "code",
   "execution_count": 3,
   "source": [
    "url = \"https://api.coinmarketcap.com/content/v3/news?coins=1027&page=1&size=200\"\n",
    "res = requests.get(url)"
   ],
   "outputs": [],
   "metadata": {}
  },
  {
   "cell_type": "code",
   "execution_count": 4,
   "source": [
    "news_data = json.loads(res.text)['data']\n",
    "len(news_data)"
   ],
   "outputs": [
    {
     "output_type": "execute_result",
     "data": {
      "text/plain": [
       "200"
      ]
     },
     "metadata": {},
     "execution_count": 4
    }
   ],
   "metadata": {}
  },
  {
   "cell_type": "code",
   "execution_count": 15,
   "source": [
    "def prepare_text(text):\n",
    "    return [ x.strip().replace('\\n', '') for x in re.split('\\.[^0-9]', text) if x != '']\n",
    "\n",
    "def find_sentiment(sentence, entity):\n",
    "    output = tsc.infer(text_left = \"\", target_mention=entity, text_right = \"\\ \"+ sentence)#article.maintext)\n",
    "    results = \"\"\n",
    "    pos = 0\n",
    "    neg = 0\n",
    "    for x in output:\n",
    "        results += \"{}: {} | \".format(x['class_label'], x['class_prob'])\n",
    "        if x['class_label'] == 'negative':\n",
    "            neg = x['class_prob']\n",
    "        elif x['class_label'] == 'positive':\n",
    "            pos = x['class_prob']\n",
    "    return (results, [pos, neg])\n",
    "\n",
    "def test_just_headline():\n",
    "    idx = np.random.randint(0, len(news_data))\n",
    "    example_news = news_data[idx]\n",
    "    title = example_news['meta']['title']\n",
    "    subtitle = example_news['meta']['subtitle']\n",
    "\n",
    "    #title = title.replace(['\\n', ' '], '')\n",
    "    #subtitle = subtitle.replace(['\\n', ' '], '')\n",
    "\n",
    "    print(title)\n",
    "    print(tsc.infer(text_left = '', target_mention = 'Ethereum', text_right = '\\ '+title))\n",
    "    print(subtitle)\n",
    "    print(tsc.infer(text_left = title, target_mention = 'Ethereum', text_right =  '\\ '+title))\n",
    "\n",
    "def test_newsentiment():\n",
    "    idx = np.random.randint(0, len(news_data))\n",
    "    example_news = news_data[idx]\n",
    "    print(example_news)\n",
    "    article = NewsPlease.from_url(example_news['meta']['sourceUrl'])\n",
    "    sentences = prepare_text(article.maintext)\n",
    "    #print(sentences)\n",
    "    n_sentences = len(sentences)\n",
    "    sents = []\n",
    "    for i, sentence in enumerate(sentences):\n",
    "        if sentence == None:\n",
    "            continue\n",
    "        results_eth, point = find_sentiment(sentence, \"Ethereum\")\n",
    "        results_btc, _ = find_sentiment(sentence, \"Bitcoin\")\n",
    "        print(results_eth + \"\\n\" + results_btc + \"\\n\" + sentence + \"\\n\")\n",
    "\n",
    "        sents.append([i/n_sentences] + point)\n",
    "        #left += \". \" + sentence\n",
    "    return np.array(sents)"
   ],
   "outputs": [],
   "metadata": {}
  },
  {
   "cell_type": "code",
   "execution_count": 24,
   "source": [
    "test_just_headline()\n",
    "# sents = test_newsentiment()"
   ],
   "outputs": [
    {
     "output_type": "stream",
     "name": "stdout",
     "text": [
      "Dubai School Greenlights School Fee Payments In Crypto\n",
      "[{'class_id': 1, 'class_label': 'neutral', 'class_prob': 0.7394821643829346}, {'class_id': 2, 'class_label': 'positive', 'class_prob': 0.2090846598148346}, {'class_id': 0, 'class_label': 'negative', 'class_prob': 0.05143318325281143}]\n",
      "Dubai&rsquo;s Citizens School has announced that it will be accepting school fee payments in BTC and ETH, becoming the first school in the Middle School to do so.&nbsp;\n",
      "Pay Tuition Fees In BTC, ETH\n",
      "The Citizens School, which is based in Dubai, will officially start operations in ...\n",
      "[{'class_id': 1, 'class_label': 'neutral', 'class_prob': 0.45575278997421265}, {'class_id': 2, 'class_label': 'positive', 'class_prob': 0.4531610608100891}, {'class_id': 0, 'class_label': 'negative', 'class_prob': 0.09108614176511765}]\n"
     ]
    }
   ],
   "metadata": {}
  },
  {
   "cell_type": "code",
   "execution_count": 8,
   "source": [
    "kde = KernelDensity(kernel = 'epanechnikov', bandwidth=100).fit(sents[:, [0, 1]])\n",
    "plt.plot(sents[:, [1, 2]])"
   ],
   "outputs": [
    {
     "output_type": "execute_result",
     "data": {
      "text/plain": [
       "[<matplotlib.lines.Line2D at 0x7f1e408066d0>,\n",
       " <matplotlib.lines.Line2D at 0x7f1e40879950>]"
      ]
     },
     "metadata": {},
     "execution_count": 8
    },
    {
     "output_type": "display_data",
     "data": {
      "image/png": "[encoded data removed]",
      "text/plain": [
       "<Figure size 432x288 with 1 Axes>"
      ]
     },
     "metadata": {
      "needs_background": "light"
     }
    }
   ],
   "metadata": {}
  },
  {
   "cell_type": "code",
   "execution_count": 29,
   "source": [
    "def test_textblob_headlines():\n",
    "    idx = np.random.randint(0, len(news_data))\n",
    "    example_news = news_data[idx]\n",
    "    title = example_news['meta']['title'].strip()\n",
    "    subtitle = example_news['meta']['subtitle'].strip()\n",
    "\n",
    "    for sentence in [title, subtitle]:\n",
    "        tb = TextBlob(sentence)\n",
    "        output = tb.sentiment\n",
    "        print(str(output) + \" \" + sentence + \"\\n\")\n",
    "\n",
    "\n",
    "def test_textblob():\n",
    "    idx = np.random.randint(0, len(news_data))\n",
    "    example_news = news_data[idx]\n",
    "    article = NewsPlease.from_url(example_news['meta']['sourceUrl'])\n",
    "    sentences = [ x.strip().replace('\\n', '') for x in article.maintext.split('. ') if x != '']\n",
    "    left = \"\"\n",
    "    for sentence in sentences:\n",
    "        tb = TextBlob(sentence)\n",
    "        output = tb.sentiment\n",
    "        print(str(output) + \" \" + sentence + \"\\n\")\n",
    "        left += \". \" + sentence\n",
    "    print(TextBlob(article.maintext).sentiment)"
   ],
   "outputs": [],
   "metadata": {}
  },
  {
   "cell_type": "code",
   "execution_count": 50,
   "source": [
    "test_textblob_headlines()\n",
    "#test_textblob()"
   ],
   "outputs": [
    {
     "output_type": "stream",
     "name": "stdout",
     "text": [
      "Sentiment(polarity=0.0, subjectivity=0.0) Daily mined Ethereum is decreasing; Is a price rise on the cards?\n",
      "\n",
      "Sentiment(polarity=-0.08333333333333333, subjectivity=0.4166666666666667) Ethereum (ETH) has been trading in the red for the past week, although a potential bullish turn could be waiting...  Continue reading\n",
      "\n"
     ]
    }
   ],
   "metadata": {}
  },
  {
   "cell_type": "code",
   "execution_count": 66,
   "source": [
    "TextBlob(\"Ethereum is surreal\").sentiment"
   ],
   "outputs": [
    {
     "output_type": "execute_result",
     "data": {
      "text/plain": [
       "Sentiment(polarity=0.25, subjectivity=1.0)"
      ]
     },
     "metadata": {},
     "execution_count": 66
    }
   ],
   "metadata": {}
  },
  {
   "cell_type": "code",
   "execution_count": 23,
   "source": [
    "idx = np.random.randint(0, len(news_data))\n",
    "example_news = news_data[idx]\n",
    "article = NewsPlease.from_url(example_news['meta']['sourceUrl'])"
   ],
   "outputs": [],
   "metadata": {}
  },
  {
   "cell_type": "code",
   "execution_count": 24,
   "source": [
    "example_news['meta']['sourceUrl']"
   ],
   "outputs": [
    {
     "output_type": "execute_result",
     "data": {
      "text/plain": [
       "'https://zycrypto.com/wen-merge-ethereum-wraps-up-major-allcoredevs-session-as-move-to-pos-propels-giant-strides/'"
      ]
     },
     "metadata": {},
     "execution_count": 24
    }
   ],
   "metadata": {}
  },
  {
   "cell_type": "code",
   "execution_count": 25,
   "source": [
    "article.maintext"
   ],
   "outputs": [
    {
     "output_type": "execute_result",
     "data": {
      "text/plain": [
       "'Advertisement\\nEthereum’s team has completed an AllCoreDev meeting with key areas of interest covered.\\nThe call covered the shadow forks on Goerli and how to handle EL clients and difficulty bombs amongst others.\\nEthereum is edging closer towards a transition to proof of stake in the near future.\\nEthereum has inched towards the transition to the Proof-of-Stake Consensus Layer with the conclusion of another ‘AllCoreDevs’ session. The details were shared by top Ethereum programmer Tim Beiko and touched on several key areas.\\nThe AllCoreDevs Call\\nTim Beiko, a leading Ethereum developer hosted a meeting of core Ethereum devs that began with an update on the testing of the Merge hard fork. As part of the testing process, the developers “shadow forked” Goerli, allowing “client teams to experience issues with block production logic and differing timeout expectations.”\\nThe shadow merge will allow devs to spot issues that might crop up easily and after two shadow forks, a third is being planned for the next week. In the coming weeks, a mainnet shadow fork will be carried out to record data in mainnet conditions, according to Tim Beiko.\\nBeiko noted that “there are some issues in setting explicit timeouts, as it opens attack vectors to try and create blocks” and while a solution has not been reached, the team will work hard to reach a conclusion.\\nTalks were carried out over timelines and difficulty bombs with the devs trying to opine when the next increment would take place. Beiko argued that while bombs increase every 100,000 blocks, hashrates coming and leaving the network often have the unintended consequence of affecting the outcome of the bomb. Beiko believes that when miners begin to sell their GPUs following the Merge, it is expected that hash rates will drop and will affect the predictions.\\nAdvertisement\\n“So, with all these caveats, if we make some rough estimations, we can expect block times to hit 15s in early July and 17s in late July. Again, large error bars here!” said Beiko.\\nWhen Should The Merge Be Expected\\nWhile an exact date has not been put forward, it is believed that the switch to Proof-of-Stake is bound to happen sometime in 2022. Tim Beiko predicts that the Merge could take place over the summer while others have narrowed their prediction to May or June.\\n“We think four months is a generous timeframe from having the code done to seeing the merge on mainnet,” Beiko said. With the merge test running smoothly and the Kiln testnet done, pundits cannot see any major stumbling blocks against Ethereum’s proposed switch.\\nAhead of the switch, ETH has become the second most staked asset with a staked value of $37 billion according to StakingRewards. Only Solana’s SOL ranks higher than it with a stake value of $52.02 billion.'"
      ]
     },
     "metadata": {},
     "execution_count": 25
    }
   ],
   "metadata": {}
  },
  {
   "cell_type": "code",
   "execution_count": 26,
   "source": [
    "sentences = [ x.strip().replace('\\n', '') for x in article.maintext.split('. ') if x != '']\n",
    "sentences"
   ],
   "outputs": [
    {
     "output_type": "execute_result",
     "data": {
      "text/plain": [
       "['AdvertisementEthereum’s team has completed an AllCoreDev meeting with key areas of interest covered.The call covered the shadow forks on Goerli and how to handle EL clients and difficulty bombs amongst others.Ethereum is edging closer towards a transition to proof of stake in the near future.Ethereum has inched towards the transition to the Proof-of-Stake Consensus Layer with the conclusion of another ‘AllCoreDevs’ session',\n",
       " 'The details were shared by top Ethereum programmer Tim Beiko and touched on several key areas.The AllCoreDevs CallTim Beiko, a leading Ethereum developer hosted a meeting of core Ethereum devs that began with an update on the testing of the Merge hard fork',\n",
       " 'As part of the testing process, the developers “shadow forked” Goerli, allowing “client teams to experience issues with block production logic and differing timeout expectations.”The shadow merge will allow devs to spot issues that might crop up easily and after two shadow forks, a third is being planned for the next week',\n",
       " 'In the coming weeks, a mainnet shadow fork will be carried out to record data in mainnet conditions, according to Tim Beiko.Beiko noted that “there are some issues in setting explicit timeouts, as it opens attack vectors to try and create blocks” and while a solution has not been reached, the team will work hard to reach a conclusion.Talks were carried out over timelines and difficulty bombs with the devs trying to opine when the next increment would take place',\n",
       " 'Beiko argued that while bombs increase every 100,000 blocks, hashrates coming and leaving the network often have the unintended consequence of affecting the outcome of the bomb',\n",
       " 'Beiko believes that when miners begin to sell their GPUs following the Merge, it is expected that hash rates will drop and will affect the predictions.Advertisement“So, with all these caveats, if we make some rough estimations, we can expect block times to hit 15s in early July and 17s in late July',\n",
       " 'Again, large error bars here!” said Beiko.When Should The Merge Be ExpectedWhile an exact date has not been put forward, it is believed that the switch to Proof-of-Stake is bound to happen sometime in 2022',\n",
       " 'Tim Beiko predicts that the Merge could take place over the summer while others have narrowed their prediction to May or June.“We think four months is a generous timeframe from having the code done to seeing the merge on mainnet,” Beiko said',\n",
       " 'With the merge test running smoothly and the Kiln testnet done, pundits cannot see any major stumbling blocks against Ethereum’s proposed switch.Ahead of the switch, ETH has become the second most staked asset with a staked value of $37 billion according to StakingRewards',\n",
       " 'Only Solana’s SOL ranks higher than it with a stake value of $52.02 billion.']"
      ]
     },
     "metadata": {},
     "execution_count": 26
    }
   ],
   "metadata": {}
  },
  {
   "cell_type": "code",
   "execution_count": 30,
   "source": [
    "for sentence in sentences:\n",
    "    if sentence == None:\n",
    "        continue\n",
    "    output = tsc.infer(text_left = \"\", target_mention=\"Ethereum\", text_right = \" \"+ sentence)#article.maintext)\n",
    "    results = \"\"\n",
    "    for x in output:\n",
    "        results += \"{}: {} | \".format(x['class_label'], x['class_prob'])\n",
    "    print(results + \" \" + sentence + \"\\n\")"
   ],
   "outputs": [
    {
     "output_type": "stream",
     "name": "stdout",
     "text": [
      "positive: 0.5666216015815735 | neutral: 0.40359145402908325 | negative: 0.02978700026869774 |  AdvertisementEthereum’s team has completed an AllCoreDev meeting with key areas of interest covered.The call covered the shadow forks on Goerli and how to handle EL clients and difficulty bombs amongst others.Ethereum is edging closer towards a transition to proof of stake in the near future.Ethereum has inched towards the transition to the Proof-of-Stake Consensus Layer with the conclusion of another ‘AllCoreDevs’ session\n",
      "\n",
      "neutral: 0.7989212274551392 | positive: 0.17525121569633484 | negative: 0.025827588513493538 |  The details were shared by top Ethereum programmer Tim Beiko and touched on several key areas.The AllCoreDevs CallTim Beiko, a leading Ethereum developer hosted a meeting of core Ethereum devs that began with an update on the testing of the Merge hard fork\n",
      "\n",
      "neutral: 0.573657214641571 | negative: 0.22866269946098328 | positive: 0.19768007099628448 |  As part of the testing process, the developers “shadow forked” Goerli, allowing “client teams to experience issues with block production logic and differing timeout expectations.”The shadow merge will allow devs to spot issues that might crop up easily and after two shadow forks, a third is being planned for the next week\n",
      "\n",
      "neutral: 0.8228065371513367 | negative: 0.100180484354496 | positive: 0.07701300084590912 |  In the coming weeks, a mainnet shadow fork will be carried out to record data in mainnet conditions, according to Tim Beiko.Beiko noted that “there are some issues in setting explicit timeouts, as it opens attack vectors to try and create blocks” and while a solution has not been reached, the team will work hard to reach a conclusion.Talks were carried out over timelines and difficulty bombs with the devs trying to opine when the next increment would take place\n",
      "\n",
      "neutral: 0.5187559127807617 | negative: 0.41421040892601013 | positive: 0.06703363358974457 |  Beiko argued that while bombs increase every 100,000 blocks, hashrates coming and leaving the network often have the unintended consequence of affecting the outcome of the bomb\n",
      "\n",
      "neutral: 0.726852297782898 | negative: 0.18327923119068146 | positive: 0.08986852318048477 |  Beiko believes that when miners begin to sell their GPUs following the Merge, it is expected that hash rates will drop and will affect the predictions.Advertisement“So, with all these caveats, if we make some rough estimations, we can expect block times to hit 15s in early July and 17s in late July\n",
      "\n",
      "neutral: 0.6981425285339355 | negative: 0.2162020057439804 | positive: 0.08565553277730942 |  Again, large error bars here!” said Beiko.When Should The Merge Be ExpectedWhile an exact date has not been put forward, it is believed that the switch to Proof-of-Stake is bound to happen sometime in 2022\n",
      "\n",
      "neutral: 0.8689967393875122 | positive: 0.10883327573537827 | negative: 0.02217002399265766 |  Tim Beiko predicts that the Merge could take place over the summer while others have narrowed their prediction to May or June.“We think four months is a generous timeframe from having the code done to seeing the merge on mainnet,” Beiko said\n",
      "\n",
      "negative: 0.41750261187553406 | positive: 0.3441804051399231 | neutral: 0.23831701278686523 |  With the merge test running smoothly and the Kiln testnet done, pundits cannot see any major stumbling blocks against Ethereum’s proposed switch.Ahead of the switch, ETH has become the second most staked asset with a staked value of $37 billion according to StakingRewards\n",
      "\n",
      "neutral: 0.7990251779556274 | negative: 0.13186489045619965 | positive: 0.06910993903875351 |  Only Solana’s SOL ranks higher than it with a stake value of $52.02 billion.\n",
      "\n"
     ]
    }
   ],
   "metadata": {}
  },
  {
   "cell_type": "code",
   "execution_count": 29,
   "source": [
    "s = json.loads(soup.find('script', id = '__NEXT_DATA__').text)"
   ],
   "outputs": [],
   "metadata": {}
  },
  {
   "cell_type": "code",
   "execution_count": 31,
   "source": [
    "with open('test.html', 'w') as file:\n",
    "    file.write(soup.prettify())"
   ],
   "outputs": [],
   "metadata": {}
  },
  {
   "cell_type": "code",
   "execution_count": 43,
   "source": [
    "article.maintext.split([\".\", \"\\n\"])"
   ],
   "outputs": [
    {
     "output_type": "error",
     "ename": "TypeError",
     "evalue": "must be str or None, not list",
     "traceback": [
      "\u001b[0;31m---------------------------------------------------------------------------\u001b[0m",
      "\u001b[0;31mTypeError\u001b[0m                                 Traceback (most recent call last)",
      "\u001b[0;32m/tmp/ipykernel_16738/2568983176.py\u001b[0m in \u001b[0;36m<module>\u001b[0;34m\u001b[0m\n\u001b[0;32m----> 1\u001b[0;31m \u001b[0marticle\u001b[0m\u001b[0;34m.\u001b[0m\u001b[0mmaintext\u001b[0m\u001b[0;34m.\u001b[0m\u001b[0msplit\u001b[0m\u001b[0;34m(\u001b[0m\u001b[0;34m[\u001b[0m\u001b[0;34m\".\"\u001b[0m\u001b[0;34m,\u001b[0m \u001b[0;34m\"\\n\"\u001b[0m\u001b[0;34m]\u001b[0m\u001b[0;34m)\u001b[0m\u001b[0;34m\u001b[0m\u001b[0;34m\u001b[0m\u001b[0m\n\u001b[0m",
      "\u001b[0;31mTypeError\u001b[0m: must be str or None, not list"
     ]
    }
   ],
   "metadata": {}
  },
  {
   "cell_type": "code",
   "execution_count": 46,
   "source": [
    "res = requests.head(\"https://coinmarketcap.com/currencies/ethereum/news/\")"
   ],
   "outputs": [],
   "metadata": {}
  },
  {
   "cell_type": "code",
   "execution_count": 47,
   "source": [
    "res.text"
   ],
   "outputs": [
    {
     "output_type": "execute_result",
     "data": {
      "text/plain": [
       "''"
      ]
     },
     "metadata": {},
     "execution_count": 47
    }
   ],
   "metadata": {}
  },
  {
   "cell_type": "code",
   "execution_count": 45,
   "source": [
    "import torch.cuda"
   ],
   "outputs": [],
   "metadata": {}
  },
  {
   "cell_type": "code",
   "execution_count": 46,
   "source": [
    "torch.cuda.empty_cache()"
   ],
   "outputs": [],
   "metadata": {}
  },
  {
   "cell_type": "code",
   "execution_count": null,
   "source": [],
   "outputs": [],
   "metadata": {}
  }
 ],
 "metadata": {
  "orig_nbformat": 4,
  "language_info": {
   "name": "python",
   "version": "3.7.13",
   "mimetype": "text/x-python",
   "codemirror_mode": {
    "name": "ipython",
    "version": 3
   },
   "pygments_lexer": "ipython3",
   "nbconvert_exporter": "python",
   "file_extension": ".py"
  },
  "kernelspec": {
   "name": "python3",
   "display_name": "Python 3.7.13 64-bit ('group_practical': conda)"
  },
  "interpreter": {
   "hash": "3abe2fc45ef8f7b9c9ffb4b5ab4d4a0cc498ff560b26e636219f492286e85227"
  }
 },
 "nbformat": 4,
 "nbformat_minor": 2
}