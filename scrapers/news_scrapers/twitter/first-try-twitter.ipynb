{
 "cells": [
  {
   "cell_type": "markdown",
   "source": [
    "# Using a BERT model finetuned for financial headlines"
   ],
   "metadata": {}
  },
  {
   "cell_type": "code",
   "execution_count": 249,
   "source": [
    "# Imoprts\n",
    "from newsplease import NewsPlease\n",
    "import requests\n",
    "from bs4 import BeautifulSoup\n",
    "import unidecode\n",
    "import json\n",
    "import re\n",
    "import numpy as np \n",
    "import matplotlib.pyplot as plt\n",
    "import configparser\n",
    "import tweepy as tw"
   ],
   "outputs": [],
   "metadata": {}
  },
  {
   "cell_type": "code",
   "execution_count": 10,
   "source": [
    "config = configparser.RawConfigParser()\n",
    "config.read(filenames = '.env')\n",
    "config.read(filenames = '.env.secret')"
   ],
   "outputs": [
    {
     "output_type": "execute_result",
     "data": {
      "text/plain": [
       "['.env.secret']"
      ]
     },
     "metadata": {},
     "execution_count": 10
    }
   ],
   "metadata": {}
  },
  {
   "cell_type": "code",
   "execution_count": 30,
   "source": [
    "access_token = config.get('twitter-api-private', 'ACCESS_TOKEN')\n",
    "access_token_secret = config.get('twitter-api-private', 'ACCESS_TOKEN_SECRET')\n",
    "api_key = config.get('twitter-api', 'API_KEY')\n",
    "api_secret_key = config.get('twitter-api', 'API_SECRET_KEY')\n",
    "bearer_token = config.get('twitter-api', 'BEARER_TOKEN')"
   ],
   "outputs": [],
   "metadata": {}
  },
  {
   "cell_type": "code",
   "execution_count": 118,
   "source": [
    "search_url = \"https://api.twitter.com/2/tweets/search/recent\"\n",
    "\n",
    "def bearer_oauth(r):\n",
    "    r.headers[\"Authorization\"] = \"Bearer {}\".format(bearer_token)\n",
    "    r.headers[\"User-Agent\"] = 'v2RecentSearchPython'\n",
    "    return r\n",
    "\n",
    "def connect_to_endpoint(url, params):\n",
    "    res = requests.get(url, auth = bearer_oauth, params = params)\n",
    "    print(res.status_code)\n",
    "    if res.status_code != 200:\n",
    "        raise Exception(res.status_code, res.text)\n",
    "    return res.json()"
   ],
   "outputs": [],
   "metadata": {}
  },
  {
   "cell_type": "code",
   "execution_count": 119,
   "source": [
    "json_res = connect_to_endpoint(search_url, query_params)\n",
    "print(len(json_res['data']))"
   ],
   "outputs": [
    {
     "output_type": "stream",
     "name": "stdout",
     "text": [
      "200\n",
      "100\n"
     ]
    }
   ],
   "metadata": {}
  },
  {
   "cell_type": "code",
   "execution_count": 124,
   "source": [
    "i = np.random.randint(len(json_res['data']))\n",
    "print(json_res['data'][i]['text'])"
   ],
   "outputs": [
    {
     "output_type": "stream",
     "name": "stdout",
     "text": [
      "~Sequoia-backed SwooshTransfer raises millions of dollars to automate cross-border payments – TechCrunch~ \n",
      "https://t.co/RBs0ygpPcZ\n",
      "#bigdata #SEO #Google #Apple  #IOS #cybersecurity #Robotics #IOT #AI #nanotechnology #software\n",
      "\n",
      "China’s export-ori...\n"
     ]
    }
   ],
   "metadata": {}
  },
  {
   "cell_type": "code",
   "execution_count": 129,
   "source": [
    "# Get news from Coinmarketcap\n",
    "def get_tweets(query_params, num = 100):\n",
    "    res = connect_to_endpoint(search_url, query_params)\n",
    "    data = res['data']\n",
    "    print(len(data))\n",
    "    return data"
   ],
   "outputs": [],
   "metadata": {}
  },
  {
   "cell_type": "code",
   "execution_count": 227,
   "source": [
    "# Get sentiment from BERT model\n",
    "def prepare_text(text):\n",
    "    return unidecode.unidecode(text.strip())\n",
    "\n",
    "def get_sentiment(texts, url = 'http://127.0.0.1:8080/tweetbert'):\n",
    "    js = { 'texts': texts }\n",
    "    res = requests.post(url, json = js)\n",
    "    return res.json()['ans']\n",
    "\n",
    "def get_tweet_sentiment(tweet):\n",
    "    sent = get_sentiment(tweet['text'])\n",
    "    return sent"
   ],
   "outputs": [],
   "metadata": {}
  },
  {
   "cell_type": "code",
   "execution_count": 263,
   "source": [
    "query_params = {\n",
    "    'query': 'Russia lang:en -is:retweet', #((AAPL OR TSLA OR AMZN) stock) lang:en -is:retweet',\n",
    "    'max_results': 100\n",
    "}"
   ],
   "outputs": [],
   "metadata": {}
  },
  {
   "cell_type": "code",
   "execution_count": 264,
   "source": [
    "tweets = get_tweets(query_params)\n",
    "num_tweets = len(tweets)\n",
    "tweets[:10]"
   ],
   "outputs": [
    {
     "output_type": "stream",
     "name": "stdout",
     "text": [
      "200\n",
      "100\n"
     ]
    },
    {
     "output_type": "execute_result",
     "data": {
      "text/plain": [
       "[{'id': '1512519778224812044',\n",
       "  'text': 'How Germany Became Putin’s Enabler https://t.co/1JlfrdjLil'},\n",
       " {'id': '1512519776534417410',\n",
       "  'text': \"@newsmax @MorriseyWV Newsmax is not news it's Russia propaganda\"},\n",
       " {'id': '1512519776291237893',\n",
       "  'text': '@ZPureblood @Reuters nobody is listening to Russia. You liars are kicked from the UN. Bye.'},\n",
       " {'id': '1512519776278654991',\n",
       "  'text': '@carlbildt @mfa_russia She’s making more sense than Trump though.'},\n",
       " {'id': '1512519776077328390',\n",
       "  'text': '@VDombrovskis Only weapons can defeat russia. https://t.co/Y6DvpJVYyN This is a real genocide of Ukrainians. They kill us just because we exist.  They rape children, girls, elderly women. Destroy the male population.  Our homes are being wiped off the face of the earth.'},\n",
       " {'id': '1512519775930494981',\n",
       "  'text': \"@s_m_h442 @Amb_Ulyanov I don't think I ever said civilians are not being killed targeted whatever in Ukraine. It's a f****** War, president Zelensky announced to the world\\nRussia would be fighting 40 million people therefore making every citizen part of his military.\"},\n",
       " {'id': '1512519773850152976',\n",
       "  'text': '@magiclrw @Mikedub272 @bruhman88898191 @IGN Also saying that Russia demands were right is just straight up retardation, who tf cares what shitter Putin wants, he wants everything and his demands are ridiculous. Also Putin constantly spitting bs lies, warps history, spreading propaganda. But ok, Ukraine is the bad guy 👌'},\n",
       " {'id': '1512519773225115650',\n",
       "  'text': '@Cryptoe9 @KarsteinEL @carlbildt @mfa_russia Thats totally no secret; but it is not so easy to see how these postings are connected with Carl Bildts tweet on Russia 2022 losing it?'},\n",
       " {'id': '1512519772751241219',\n",
       "  'text': '@EricBrown1911 @AndreaBitely But it was cool for you losers to push the Russia hoax for 4 years? No way in hell that walking corpse got 81 million votes. RIGGED election'},\n",
       " {'id': '1512519770205216773',\n",
       "  'text': 'It would be hilarious if Africa stopped selling France and Belgium natural resources now that Russia isnt gunna give them shit enjoy living in the stone age'}]"
      ]
     },
     "metadata": {},
     "execution_count": 264
    }
   ],
   "metadata": {}
  },
  {
   "cell_type": "code",
   "execution_count": 261,
   "source": [
    "i = np.random.randint(len(tweets))\n",
    "sents = get_tweet_sentiment(tweets[i])\n",
    "# print(sents)\n",
    "print(tweets[i]['text'])\n",
    "print(sents)"
   ],
   "outputs": [
    {
     "output_type": "stream",
     "name": "stdout",
     "text": [
      "Rusya'da Şubat ayında %9.15 olan yıllık enflasyon Mart ayında %16.69'a çıktı.\n",
      "\n",
      "Neyse artık zam yapılacağı zaman ama #Russia'da #Enflasyon şöyle böyle dersiniz...\n",
      "[[0.017496716231107712, 0.021858595311641693, 0.9606447219848633]]\n"
     ]
    }
   ],
   "metadata": {}
  },
  {
   "cell_type": "code",
   "execution_count": 262,
   "source": [
    "i = np.random.randint(len(tweets))\n",
    "print(tweets[i]['text'])"
   ],
   "outputs": [
    {
     "output_type": "stream",
     "name": "stdout",
     "text": [
      "@jwojc Russia can only be defeated with arms. Take a look at what they've done to our cities: https://t.co/QxeBtNt1Jm This is a genocide against Ukrainians.  We appreciate any help, but only armed assistance will be able to halt this darkness, this Russia.\n"
     ]
    }
   ],
   "metadata": {}
  },
  {
   "cell_type": "code",
   "execution_count": 265,
   "source": [
    "sents = get_sentiment([x['text'] for x in tweets])\n",
    "sents = np.array(sents)"
   ],
   "outputs": [],
   "metadata": {}
  },
  {
   "cell_type": "code",
   "execution_count": 267,
   "source": [
    "colors = ['positive', 'negative', 'neutral']\n",
    "plt.hist(sents, histtype = 'bar', stacked=True, label = colors)\n",
    "plt.legend()"
   ],
   "outputs": [
    {
     "output_type": "execute_result",
     "data": {
      "text/plain": [
       "<matplotlib.legend.Legend at 0x7f8d584f8650>"
      ]
     },
     "metadata": {},
     "execution_count": 267
    },
    {
     "output_type": "display_data",
     "data": {
      "image/png": "[encoded data removed]",
      "text/plain": [
       "<Figure size 432x288 with 1 Axes>"
      ]
     },
     "metadata": {
      "needs_background": "light"
     }
    }
   ],
   "metadata": {}
  },
  {
   "cell_type": "code",
   "execution_count": 248,
   "source": [
    "sents"
   ],
   "outputs": [
    {
     "output_type": "execute_result",
     "data": {
      "text/plain": [
       "array([[1.42962979e-02, 4.27380383e-01, 5.58323383e-01],\n",
       "       [5.38009591e-02, 1.10575989e-01, 8.35623085e-01],\n",
       "       [3.47960778e-02, 1.04316110e-02, 9.54772234e-01],\n",
       "       [9.11132619e-02, 3.64719592e-02, 8.72414827e-01],\n",
       "       [9.00421917e-01, 1.03771244e-03, 9.85403284e-02],\n",
       "       [9.58565056e-01, 7.52795022e-04, 4.06821929e-02],\n",
       "       [9.03962731e-01, 8.89765215e-04, 9.51475352e-02],\n",
       "       [1.20813243e-01, 2.57290006e-02, 8.53457749e-01],\n",
       "       [9.89939392e-01, 1.52928545e-03, 8.53125565e-03],\n",
       "       [9.86173391e-01, 1.38901547e-03, 1.24376025e-02],\n",
       "       [7.92996213e-03, 9.17473733e-01, 7.45963082e-02],\n",
       "       [3.01923696e-02, 1.47122324e-01, 8.22685301e-01],\n",
       "       [1.80695094e-02, 5.31401932e-02, 9.28790390e-01],\n",
       "       [2.27671906e-01, 5.00265555e-03, 7.67325521e-01],\n",
       "       [3.96133699e-02, 5.79766557e-03, 9.54588950e-01],\n",
       "       [1.00926459e-01, 1.65204995e-03, 8.97421479e-01],\n",
       "       [3.35616350e-01, 1.42892962e-03, 6.62954688e-01],\n",
       "       [1.34155691e-01, 2.94620963e-03, 8.62898111e-01],\n",
       "       [3.34860146e-01, 2.29608198e-03, 6.62843764e-01],\n",
       "       [8.54525864e-02, 2.60835257e-03, 9.11939144e-01],\n",
       "       [8.54525864e-02, 2.60835257e-03, 9.11939144e-01],\n",
       "       [8.54525864e-02, 2.60835257e-03, 9.11939144e-01],\n",
       "       [4.21911836e-01, 1.46509463e-03, 5.76623023e-01],\n",
       "       [5.46924248e-02, 3.48128914e-03, 9.41826224e-01],\n",
       "       [9.44891348e-02, 2.80033750e-03, 9.02710497e-01],\n",
       "       [4.95044626e-02, 2.44612666e-03, 9.48049486e-01],\n",
       "       [1.18273802e-01, 6.67233095e-02, 8.15002918e-01],\n",
       "       [9.29980427e-02, 2.51403009e-03, 9.04487908e-01],\n",
       "       [2.48048212e-02, 1.04012206e-01, 8.71182978e-01],\n",
       "       [3.69470008e-02, 8.07447731e-03, 9.54978526e-01],\n",
       "       [1.05682705e-02, 6.78921998e-01, 3.10509741e-01],\n",
       "       [9.89178047e-02, 2.45424616e-03, 8.98627996e-01],\n",
       "       [5.47594531e-03, 9.65895116e-01, 2.86290068e-02],\n",
       "       [3.71885806e-01, 5.83350053e-03, 6.22280717e-01],\n",
       "       [3.71885806e-01, 5.83350053e-03, 6.22280717e-01],\n",
       "       [4.81008738e-01, 1.35619740e-03, 5.17635107e-01],\n",
       "       [7.42827775e-03, 7.28960574e-01, 2.63611108e-01],\n",
       "       [5.41634439e-03, 9.64966714e-01, 2.96169221e-02],\n",
       "       [9.88740385e-01, 2.05029291e-03, 9.20925569e-03],\n",
       "       [1.13798101e-02, 4.91593719e-01, 4.97026473e-01],\n",
       "       [1.81525454e-01, 1.31364155e-03, 8.17160904e-01],\n",
       "       [6.32254686e-03, 7.73528159e-01, 2.20149294e-01],\n",
       "       [1.52980804e-01, 5.41642122e-02, 7.92854965e-01],\n",
       "       [5.29026985e-02, 3.46885055e-01, 6.00212216e-01],\n",
       "       [1.03892861e-02, 1.98752508e-01, 7.90858150e-01],\n",
       "       [3.09203297e-01, 2.87001394e-03, 6.87926650e-01],\n",
       "       [6.35419130e-01, 1.25476334e-03, 3.63326132e-01],\n",
       "       [2.88635641e-02, 7.85805751e-03, 9.63278413e-01],\n",
       "       [5.17716765e-01, 2.08525569e-03, 4.80198026e-01],\n",
       "       [1.56483129e-01, 2.15640967e-03, 8.41360509e-01],\n",
       "       [5.32437954e-03, 8.57747912e-01, 1.36927754e-01],\n",
       "       [7.60679990e-02, 3.41090381e-01, 5.82841635e-01],\n",
       "       [1.46119133e-01, 3.22613260e-03, 8.50654721e-01],\n",
       "       [6.37747824e-01, 1.31779769e-03, 3.60934466e-01],\n",
       "       [3.94408435e-01, 1.33056391e-03, 6.04261041e-01],\n",
       "       [7.08867377e-03, 5.51778078e-01, 4.41133201e-01],\n",
       "       [1.43499494e-01, 1.23644441e-01, 7.32856095e-01],\n",
       "       [7.93171749e-02, 3.03391600e-03, 9.17648971e-01],\n",
       "       [7.93171749e-02, 3.03391600e-03, 9.17648971e-01],\n",
       "       [7.93171749e-02, 3.03391600e-03, 9.17648971e-01],\n",
       "       [2.96137459e-03, 9.15851295e-01, 8.11873302e-02],\n",
       "       [9.56702411e-01, 7.70965649e-04, 4.25265729e-02],\n",
       "       [7.56964445e-01, 1.28367648e-03, 2.41751865e-01],\n",
       "       [9.04259443e-01, 9.55869618e-04, 9.47846919e-02],\n",
       "       [4.39856172e-01, 1.55642373e-03, 5.58587372e-01],\n",
       "       [1.23150013e-02, 4.73854750e-01, 5.13830245e-01],\n",
       "       [2.62400597e-01, 2.57651340e-02, 7.11834252e-01],\n",
       "       [1.18493423e-01, 4.45756614e-01, 4.35749918e-01],\n",
       "       [5.78592896e-01, 1.33224356e-03, 4.20074791e-01],\n",
       "       [1.84184492e-01, 2.22611517e-01, 5.93204021e-01],\n",
       "       [6.73678339e-01, 1.50419038e-03, 3.24817479e-01],\n",
       "       [3.86247337e-01, 2.72476161e-03, 6.11027896e-01],\n",
       "       [4.84709233e-01, 1.73972209e-03, 5.13550997e-01],\n",
       "       [5.93176903e-03, 9.30775404e-01, 6.32927790e-02],\n",
       "       [8.73902589e-02, 2.84535415e-03, 9.09764349e-01],\n",
       "       [4.36933815e-01, 1.77418627e-03, 5.61291993e-01],\n",
       "       [1.02984169e-02, 5.08939803e-01, 4.80761856e-01],\n",
       "       [6.32292271e-01, 1.51040289e-03, 3.66197318e-01],\n",
       "       [5.92800863e-02, 2.19048411e-01, 7.21671522e-01],\n",
       "       [6.73678339e-01, 1.50419038e-03, 3.24817479e-01],\n",
       "       [3.68963838e-01, 1.56455964e-03, 6.29471600e-01],\n",
       "       [6.34136438e-01, 1.31086714e-03, 3.64552647e-01],\n",
       "       [3.97343636e-01, 1.40545133e-03, 6.01250887e-01],\n",
       "       [1.12084463e-01, 1.61929359e-03, 8.86296272e-01],\n",
       "       [1.68860462e-02, 5.01984060e-01, 4.81129855e-01],\n",
       "       [6.37747824e-01, 1.31779769e-03, 3.60934466e-01],\n",
       "       [3.55329692e-01, 1.42518315e-03, 6.43245101e-01],\n",
       "       [2.07323030e-01, 1.19044259e-01, 6.73632681e-01],\n",
       "       [8.95934850e-02, 3.00829113e-02, 8.80323589e-01],\n",
       "       [9.09334004e-01, 1.40006898e-03, 8.92659277e-02],\n",
       "       [4.56106998e-02, 5.28518222e-02, 9.01537418e-01],\n",
       "       [3.07224303e-01, 1.49761781e-03, 6.91278100e-01],\n",
       "       [5.06209195e-01, 1.57578452e-03, 4.92214978e-01],\n",
       "       [2.29221750e-02, 2.32805073e-01, 7.44272768e-01],\n",
       "       [8.37828964e-02, 3.97834294e-02, 8.76433671e-01],\n",
       "       [1.08352527e-02, 9.21809733e-01, 6.73550516e-02],\n",
       "       [7.83464313e-01, 2.02764501e-03, 2.14508057e-01],\n",
       "       [2.37525687e-01, 2.34313658e-03, 7.60131180e-01],\n",
       "       [4.60769832e-01, 1.42066681e-03, 5.37809491e-01],\n",
       "       [2.62103975e-01, 1.66468997e-03, 7.36231387e-01]])"
      ]
     },
     "metadata": {},
     "execution_count": 248
    }
   ],
   "metadata": {}
  },
  {
   "cell_type": "code",
   "execution_count": null,
   "source": [],
   "outputs": [],
   "metadata": {}
  }
 ],
 "metadata": {
  "orig_nbformat": 4,
  "language_info": {
   "name": "python",
   "version": "3.7.13",
   "mimetype": "text/x-python",
   "codemirror_mode": {
    "name": "ipython",
    "version": 3
   },
   "pygments_lexer": "ipython3",
   "nbconvert_exporter": "python",
   "file_extension": ".py"
  },
  "kernelspec": {
   "name": "python3",
   "display_name": "Python 3.7.13 64-bit ('group_practical': conda)"
  },
  "interpreter": {
   "hash": "3abe2fc45ef8f7b9c9ffb4b5ab4d4a0cc498ff560b26e636219f492286e85227"
  }
 },
 "nbformat": 4,
 "nbformat_minor": 2
}