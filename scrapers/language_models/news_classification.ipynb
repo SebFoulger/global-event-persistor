{
 "cells": [
  {
   "cell_type": "code",
   "execution_count": 1,
   "source": [
    "import spacy\n",
    "import pandas as pd\n",
    "import numpy as np\n",
    "from newsplease import NewsPlease"
   ],
   "outputs": [
    {
     "output_type": "stream",
     "name": "stderr",
     "text": [
      "/home/felipenuti/miniconda3/envs/group_practical/lib/python3.7/site-packages/tqdm/auto.py:22: TqdmWarning: IProgress not found. Please update jupyter and ipywidgets. See https://ipywidgets.readthedocs.io/en/stable/user_install.html\n",
      "  from .autonotebook import tqdm as notebook_tqdm\n"
     ]
    }
   ],
   "metadata": {}
  },
  {
   "cell_type": "code",
   "execution_count": 2,
   "source": [
    "from sklearn.feature_extraction.text import TfidfVectorizer\n",
    "from sklearn.model_selection import StratifiedKFold\n",
    "from sklearn.metrics import accuracy_score\n",
    "from sklearn.linear_model import RidgeClassifier\n",
    "from sklearn.pipeline import Pipeline\n",
    "from sklearn.svm import SVC"
   ],
   "outputs": [],
   "metadata": {}
  },
  {
   "cell_type": "code",
   "execution_count": 7,
   "source": [
    "df = pd.read_csv(\"/home/felipenuti/Downloads/bbc_news_classification/bbc-news-data.csv\", sep = '\\t') "
   ],
   "outputs": [],
   "metadata": {}
  },
  {
   "cell_type": "code",
   "execution_count": 8,
   "source": [
    "categories = pd.Categorical(df['category'])\n",
    "df['code'] = categories.codes"
   ],
   "outputs": [],
   "metadata": {}
  },
  {
   "cell_type": "code",
   "execution_count": 9,
   "source": [
    "code_to_cat = {code: df[df['code'] == code]['category'].unique()[0] for code in range(5)}\n",
    "code_to_cat\n"
   ],
   "outputs": [
    {
     "output_type": "execute_result",
     "data": {
      "text/plain": [
       "{0: 'business', 1: 'entertainment', 2: 'politics', 3: 'sport', 4: 'tech'}"
      ]
     },
     "metadata": {},
     "execution_count": 9
    }
   ],
   "metadata": {}
  },
  {
   "cell_type": "code",
   "execution_count": 10,
   "source": [
    "df.head(3)"
   ],
   "outputs": [
    {
     "output_type": "execute_result",
     "data": {
      "text/html": [
       "<div>\n",
       "<style scoped>\n",
       "    .dataframe tbody tr th:only-of-type {\n",
       "        vertical-align: middle;\n",
       "    }\n",
       "\n",
       "    .dataframe tbody tr th {\n",
       "        vertical-align: top;\n",
       "    }\n",
       "\n",
       "    .dataframe thead th {\n",
       "        text-align: right;\n",
       "    }\n",
       "</style>\n",
       "<table border=\"1\" class=\"dataframe\">\n",
       "  <thead>\n",
       "    <tr style=\"text-align: right;\">\n",
       "      <th></th>\n",
       "      <th>category</th>\n",
       "      <th>filename</th>\n",
       "      <th>title</th>\n",
       "      <th>content</th>\n",
       "      <th>code</th>\n",
       "    </tr>\n",
       "  </thead>\n",
       "  <tbody>\n",
       "    <tr>\n",
       "      <th>0</th>\n",
       "      <td>business</td>\n",
       "      <td>001.txt</td>\n",
       "      <td>Ad sales boost Time Warner profit</td>\n",
       "      <td>Quarterly profits at US media giant TimeWarne...</td>\n",
       "      <td>0</td>\n",
       "    </tr>\n",
       "    <tr>\n",
       "      <th>1</th>\n",
       "      <td>business</td>\n",
       "      <td>002.txt</td>\n",
       "      <td>Dollar gains on Greenspan speech</td>\n",
       "      <td>The dollar has hit its highest level against ...</td>\n",
       "      <td>0</td>\n",
       "    </tr>\n",
       "    <tr>\n",
       "      <th>2</th>\n",
       "      <td>business</td>\n",
       "      <td>003.txt</td>\n",
       "      <td>Yukos unit buyer faces loan claim</td>\n",
       "      <td>The owners of embattled Russian oil giant Yuk...</td>\n",
       "      <td>0</td>\n",
       "    </tr>\n",
       "  </tbody>\n",
       "</table>\n",
       "</div>"
      ],
      "text/plain": [
       "   category filename                              title  \\\n",
       "0  business  001.txt  Ad sales boost Time Warner profit   \n",
       "1  business  002.txt   Dollar gains on Greenspan speech   \n",
       "2  business  003.txt  Yukos unit buyer faces loan claim   \n",
       "\n",
       "                                             content  code  \n",
       "0   Quarterly profits at US media giant TimeWarne...     0  \n",
       "1   The dollar has hit its highest level against ...     0  \n",
       "2   The owners of embattled Russian oil giant Yuk...     0  "
      ]
     },
     "metadata": {},
     "execution_count": 10
    }
   ],
   "metadata": {}
  },
  {
   "cell_type": "code",
   "execution_count": 8,
   "source": [
    "skf = StratifiedKFold(n_splits = 5, shuffle = True)"
   ],
   "outputs": [],
   "metadata": {}
  },
  {
   "cell_type": "code",
   "execution_count": 9,
   "source": [
    "def test_model(estimator, model_name, folds):\n",
    "    global df\n",
    "    train_acc = []\n",
    "    test_acc = []\n",
    "\n",
    "    for fold, (train_idx, test_idx) in enumerate(folds):\n",
    "        train_df = df.loc[train_idx, :].reset_index(drop = True)\n",
    "        test_df = df.loc[test_idx, :].reset_index(drop = True)\n",
    "\n",
    "        vectorizer = TfidfVectorizer(sublinear_tf=True, min_df=5, norm='l2', encoding='latin-1', ngram_range=(1, 5), stop_words='english')\n",
    "\n",
    "        X_train = vectorizer.fit_transform(train_df['content'])\n",
    "        X_test = vectorizer.transform(test_df['content'])\n",
    "\n",
    "        y_train = train_df['code'] #pd.get_dummies(train_df['code']).values\n",
    "        y_test = test_df['code'] #pd.get_dummies(test_df['code']).values\n",
    "\n",
    "        estimator.fit(X_train, y_train)\n",
    "\n",
    "        y_hat_train = estimator.predict(X_train)\n",
    "        y_hat_test = estimator.predict(X_test)\n",
    "\n",
    "        #print(y_train)\n",
    "        #print(y_hat_train)\n",
    "\n",
    "        train_acc.append(accuracy_score(y_train, y_hat_train))\n",
    "        test_acc.append(accuracy_score(y_test, y_hat_test))\n",
    "\n",
    "        print(\"Fold {} - {}\".format(fold, model_name))\n",
    "        print(f\"\\tTrain: {train_acc[-1]}\\tTest: {test_acc[-1]}\")\n",
    "\n",
    "\n"
   ],
   "outputs": [],
   "metadata": {}
  },
  {
   "cell_type": "code",
   "execution_count": 11,
   "source": [
    "def train_model(estimator, vectorizer):\n",
    "    global df\n",
    "\n",
    "    X_train = vectorizer.fit_transform(df['content'])\n",
    "\n",
    "    y_train = df['code']\n",
    "\n",
    "    estimator.fit(X_train, y_train)\n",
    "\n",
    "    y_hat_train = estimator.predict(X_train)\n",
    "\n",
    "    #print(y_train)\n",
    "    #print(y_hat_train)\n",
    "\n",
    "    acc = accuracy_score(y_train, y_hat_train)\n",
    "    print(acc)"
   ],
   "outputs": [],
   "metadata": {}
  },
  {
   "cell_type": "code",
   "execution_count": null,
   "source": [
    "test_model(RidgeClassifier(), \"RidgeClassifier\", skf.split(df.index, df.code))"
   ],
   "outputs": [
    {
     "output_type": "stream",
     "name": "stdout",
     "text": [
      "Fold 0 - RidgeClassifier\n",
      "\tTrain: 1.0\n",
      "\tTest: 0.9887640449438202\n",
      "Fold 1 - RidgeClassifier\n",
      "\tTrain: 1.0\n",
      "\tTest: 0.9910112359550561\n",
      "Fold 2 - RidgeClassifier\n",
      "\tTrain: 1.0\n",
      "\tTest: 0.9797752808988764\n",
      "Fold 3 - RidgeClassifier\n",
      "\tTrain: 1.0\n",
      "\tTest: 0.9797752808988764\n",
      "Fold 4 - RidgeClassifier\n",
      "\tTrain: 1.0\n",
      "\tTest: 0.9842696629213483\n"
     ]
    }
   ],
   "metadata": {}
  },
  {
   "cell_type": "code",
   "execution_count": null,
   "source": [
    "# test_model(SVC(), \"SVC\", skf.split(df.index, df.code))"
   ],
   "outputs": [
    {
     "output_type": "stream",
     "name": "stdout",
     "text": [
      "Fold 0 - SVC\n",
      "\tTrain: 1.0\tTest: 0.9730337078651685\n",
      "Fold 1 - SVC\n",
      "\tTrain: 1.0\tTest: 0.9932584269662922\n",
      "Fold 2 - SVC\n",
      "\tTrain: 1.0\tTest: 0.9887640449438202\n",
      "Fold 3 - SVC\n",
      "\tTrain: 1.0\tTest: 0.9775280898876404\n",
      "Fold 4 - SVC\n",
      "\tTrain: 1.0\tTest: 0.9820224719101124\n"
     ]
    }
   ],
   "metadata": {}
  },
  {
   "cell_type": "code",
   "execution_count": 12,
   "source": [
    "ridgeClassifier = RidgeClassifier()\n",
    "vectorizer = TfidfVectorizer(sublinear_tf=True, min_df=5, norm='l2', encoding='latin-1', ngram_range=(1, 5), stop_words='english')\n",
    "train_model(ridgeClassifier, vectorizer)\n",
    "pipe = Pipeline([\n",
    "    ('vectorizer', vectorizer),\n",
    "    ('ridge classifier', ridgeClassifier)\n",
    "])"
   ],
   "outputs": [
    {
     "output_type": "stream",
     "name": "stdout",
     "text": [
      "1.0\n"
     ]
    }
   ],
   "metadata": {}
  },
  {
   "cell_type": "code",
   "execution_count": 13,
   "source": [
    "gdelt_data = pd.read_csv(\"~/Downloads/20220411231500.export.CSV\", sep = '\\t', header=None)"
   ],
   "outputs": [],
   "metadata": {}
  },
  {
   "cell_type": "code",
   "execution_count": 17,
   "source": [
    "gdelt_links = gdelt_data[60]"
   ],
   "outputs": [],
   "metadata": {}
  },
  {
   "cell_type": "code",
   "execution_count": 14,
   "source": [
    "import unidecode\n",
    "import requests"
   ],
   "outputs": [],
   "metadata": {}
  },
  {
   "cell_type": "code",
   "execution_count": 15,
   "source": [
    "# Get sentiment from BERT model\n",
    "def prepare_text(text):\n",
    "    return unidecode.unidecode(text.strip())\n",
    "\n",
    "def get_category(texts, url = 'http://127.0.0.1:8080/news-classification'):\n",
    "    js = { 'texts': texts }\n",
    "    res = requests.post(url, json = js)\n",
    "    return res.json()['ans']\n",
    "\n",
    "def get_tweet_sentiment(tweet):\n",
    "    sent = get_category(tweet['text'])\n",
    "    return sent"
   ],
   "outputs": [],
   "metadata": {}
  },
  {
   "cell_type": "code",
   "execution_count": 14,
   "source": [
    "i = np.random.randint(gdelt_links.size)\n",
    "link = gdelt_links[i]\n",
    "news = NewsPlease.from_url(link)\n",
    "js = news.get_dict()\n",
    "if 'maintext' in js.keys():\n",
    "    pred = get_category([js['title']]) # pipe.predict([js['maintext']])[0]\n",
    "    js['category'] = pred #code_to_cat[pred]\n",
    "    print(js['title'])\n",
    "    print(js['maintext'][:100])\n",
    "    print(js['category'])"
   ],
   "outputs": [
    {
     "output_type": "stream",
     "name": "stdout",
     "text": [
      "Watch: North Korean nurse ‘exposes anti-government plot’ in new propaganda film\n",
      "North Korea has released its first feature-length film in five years as part of propaganda efforts t\n",
      "[{'classes': {'Business': 0.0009716442436911166, 'Sci/Tech': 0.0012157652527093887, 'Sports': 0.00044998913654126227, 'World': 0.9973625540733337}, 'text': 'Watch: North Korean nurse ‘exposes anti-government plot’ in new propaganda film', 'vec': [0.9973625540733337, 0.00044998913654126227, 0.0009716442436911166, 0.0012157652527093887]}]\n"
     ]
    }
   ],
   "metadata": {}
  },
  {
   "cell_type": "code",
   "execution_count": 21,
   "source": [
    "titles = NewsPlease.from_urls(gdelt_links.tolist()[:10], timeout=1)\n",
    "titles = [news.get_dict() for news in titles.values()]"
   ],
   "outputs": [
    {
     "output_type": "error",
     "ename": "TypeError",
     "evalue": "strftime() missing required argument 'format' (pos 1)",
     "traceback": [
      "\u001b[0;31m---------------------------------------------------------------------------\u001b[0m",
      "\u001b[0;31mTypeError\u001b[0m                                 Traceback (most recent call last)",
      "\u001b[0;32m/tmp/ipykernel_24278/1536026189.py\u001b[0m in \u001b[0;36m<module>\u001b[0;34m\u001b[0m\n\u001b[1;32m      1\u001b[0m \u001b[0mtitles\u001b[0m \u001b[0;34m=\u001b[0m \u001b[0mNewsPlease\u001b[0m\u001b[0;34m.\u001b[0m\u001b[0mfrom_urls\u001b[0m\u001b[0;34m(\u001b[0m\u001b[0mgdelt_links\u001b[0m\u001b[0;34m.\u001b[0m\u001b[0mtolist\u001b[0m\u001b[0;34m(\u001b[0m\u001b[0;34m)\u001b[0m\u001b[0;34m[\u001b[0m\u001b[0;34m:\u001b[0m\u001b[0;36m10\u001b[0m\u001b[0;34m]\u001b[0m\u001b[0;34m,\u001b[0m \u001b[0mtimeout\u001b[0m\u001b[0;34m=\u001b[0m\u001b[0;36m1\u001b[0m\u001b[0;34m)\u001b[0m\u001b[0;34m\u001b[0m\u001b[0;34m\u001b[0m\u001b[0m\n\u001b[1;32m      2\u001b[0m \u001b[0mtitles\u001b[0m \u001b[0;34m=\u001b[0m \u001b[0;34m[\u001b[0m\u001b[0mnews\u001b[0m\u001b[0;34m.\u001b[0m\u001b[0mget_dict\u001b[0m\u001b[0;34m(\u001b[0m\u001b[0;34m)\u001b[0m \u001b[0;32mfor\u001b[0m \u001b[0mnews\u001b[0m \u001b[0;32min\u001b[0m \u001b[0mtitles\u001b[0m\u001b[0;34m.\u001b[0m\u001b[0mvalues\u001b[0m\u001b[0;34m(\u001b[0m\u001b[0;34m)\u001b[0m\u001b[0;34m]\u001b[0m\u001b[0;34m\u001b[0m\u001b[0;34m\u001b[0m\u001b[0m\n\u001b[0;32m----> 3\u001b[0;31m \u001b[0mtitles\u001b[0m\u001b[0;34m[\u001b[0m\u001b[0;36m0\u001b[0m\u001b[0;34m]\u001b[0m\u001b[0;34m[\u001b[0m\u001b[0;34m'date_publish'\u001b[0m\u001b[0;34m]\u001b[0m\u001b[0;34m.\u001b[0m\u001b[0mstrftime\u001b[0m\u001b[0;34m(\u001b[0m\u001b[0;34m)\u001b[0m\u001b[0;34m\u001b[0m\u001b[0;34m\u001b[0m\u001b[0m\n\u001b[0m",
      "\u001b[0;31mTypeError\u001b[0m: strftime() missing required argument 'format' (pos 1)"
     ]
    }
   ],
   "metadata": {}
  },
  {
   "cell_type": "code",
   "execution_count": 23,
   "source": [
    "titles[0]"
   ],
   "outputs": [
    {
     "output_type": "execute_result",
     "data": {
      "text/plain": [
       "{'authors': ['Gillian Flaccus', 'Associated Press'],\n",
       " 'date_download': datetime.datetime(2022, 4, 13, 14, 11, 25),\n",
       " 'date_modify': None,\n",
       " 'date_publish': datetime.datetime(2022, 4, 11, 22, 54, 45),\n",
       " 'description': 'PORTLAND, Ore. (AP) — Farms that rely on irrigation from a depleted, federally managed...',\n",
       " 'filename': 'https%3A%2F%2Fwww.lmtonline.com%2Fnews%2Farticle%2FFarms-fish-on-California-Oregon-border-to-get-17073626.php.json',\n",
       " 'image_url': 'https://s.hdnux.com/photos/01/25/12/44/22325520/3/rawImage.jpg',\n",
       " 'language': 'en',\n",
       " 'localpath': None,\n",
       " 'maintext': 'PORTLAND, Ore. (AP) — Farms that rely on irrigation from a depleted, federally managed lake on the California-Oregon border, along with a Native American tribe fighting to protect fragile salmon, will both receive extremely limited amounts of water this summer as a historic drought and record-low reservoir levels drag on in the U.S. West.\\nMore than 1,000 farmers and ranchers who draw water from a 257-mile-long (407-kilometer) river that flows from the Upper Klamath Lake to the Pacific Ocean will have access to roughly one-seventh the amount they could get in a wetter year, a federal agency announced Monday. Downstream salmon will receive about half the water they’d get if the reservoir was full.\\nIt\\'s the third year in a row that severe drought has impacted farmers, fish and tribes in a region where there\\'s not enough water to satisfy competing demands. Last year, no water at all flowed through the Klamath Reclamation Project\\'s main irrigation canal, and thousands of downstream juvenile salmon died without reservoir releases to support the Klamath River\\'s health.\\nThe U.S. Bureau of Reclamation, which manages the irrigation project, announced $15 million in relief for affected farmers and $5 million for Native American tribes as a result of its decision and warned farmers not to take water beyond what was ordered or risk further irrigation reductions and legal action. The agency decides the allocations each year, taking into account court rulings that require certain lake levels to support two federally endangered fish species.\\nAcross the American West, a 22-year megadrought deepened so much last year that the region is now in the driest spell in at least 1,200 years — a worst-case climate change scenario playing out in real time, a study found last month.\\nInflow to the Upper Klamath Lake is at a record lows, water managers said, and water allocations could drop further if drought conditions worsen this summer.\\n“We wish we had better news today. Obviously there are no winners in this critical year as all interests are suffering — fisheries, farmers tribes and waterfowl alike — but given the current hydrology that we have to work with, we did the best job we could,” said Ernest Conant, the bureau’s regional director.\\nIrrigators reacted with shock and anger to the news and said they weren’t sure they could survive another growing season without adequate water supplies. The amount of water available is less than 15% of what the farmers need, said Ben DuVal, president of the Klamath Water Users Association, who operates a farm in Tulelake, California.\\n“We have 170,000 acres (68,800 hectares) that could be irrigated this year, and we’re ready to get to work,” he said. “On a single acre, we can produce over 50,000 pounds (22,700 kilograms) of potatoes, or 6,000 pounds (2,700 kilograms) of wheat. This year, most of that land will not produce any food because the government is denying water for irrigation.”\\nKlamath River water that is dammed in the Upper Klamath Lake is the linchpin of the nearly 200,000-acre (80,940-hectare) Klamath Reclamation Project, a major agricultural powerhouse of more than 1,000 farms and ranches. Today, farmers there grow everything from mint to alfalfa to potatoes that go to In ’N Out Burger, Frito-Lay and Kettle Foods.\\nBut the reservoir water is also source of conflict among competing demands, and amid historic drought in the carefully managed river basin there hasn\\'t been enough water to go around in recent years. Before 2020, the last time water allocations reached such a boiling point in the Klamath Basin was in 2001, when the U.S. government sent federal marshals to the area during a drought year and farmers threatened to breach the head gates.\\nUnder the law, the lake\\'s water must be kept at a certain level to protect its sucker fish, a key species to the heritage of the Klamath Tribes in southern Oregon. This year\\'s water decision order irrigators to keep the lake\\'s water above a certain level for sucker fish spawning in April and May and then at a different level for the remainder of the summer — but even at those levels, the lake will not meet federally mandated minimums for the spring months.\\nFarmers can start drawing the limited water on Friday.\\nBut federally threatened coho salmon that live in the lower Klamath River, below the reservoir, also need pulses of water from the lake to keep at bay a deadly parasite that thrives in warm and slow-moving water. The salmon are revered by the Yurok Tribe, California’s second-largest Native American tribe.\\nOne so-called “flushing flow” of water that\\'s about half the normal amount — and half what farmers will get — will be released Friday also.\\nYurok Vice Chairman Frankie Myers said the fact that salmon, sucker fish and waterfowl are competing for the region\\'s water was a “direct sign of the ecological collapse brought by water withdrawals.\" He said the Yurok would never stop working to save the salmon.\\n“Although we are gratified that the river is afforded minimal protections under this plan, it is no time for celebration. Salmon runs will continue to suffer under these conditions, and as climate change intensifies, such protections will become increasingly important,” Myers said.\\nThe slashed water allocations to the Klamath Reclamation Project also will impact two national wildlife refuges in the region that are replenished with irrigation runoff. The refuges host tens of thousands of migratory birds along the Pacific Flyway. Last year, environmentalists and farmers used pumps to combine water from two stagnant wetlands into one deeper one to prevent another outbreak of avian botulism like the one that killed 50,000 ducks in 2020.\\nHundreds of domestic wells impacted by the increased groundwater pumping have also gone dry since late last summer.',\n",
       " 'source_domain': 'www.lmtonline.com',\n",
       " 'text': None,\n",
       " 'title': 'Farms, fish on dry California-Oregon border see scant water',\n",
       " 'title_page': None,\n",
       " 'title_rss': None,\n",
       " 'url': 'https://www.lmtonline.com/news/article/Farms-fish-on-California-Oregon-border-to-get-17073626.php'}"
      ]
     },
     "metadata": {},
     "execution_count": 23
    }
   ],
   "metadata": {}
  },
  {
   "cell_type": "code",
   "execution_count": 25,
   "source": [
    "titles = [ k.title for k in titles.values() ] # gdelt_links.tolist()"
   ],
   "outputs": [],
   "metadata": {}
  },
  {
   "cell_type": "code",
   "execution_count": null,
   "source": [
    "get_category(titles)"
   ],
   "outputs": [],
   "metadata": {}
  },
  {
   "cell_type": "code",
   "execution_count": 25,
   "source": [
    "gdelt_data"
   ],
   "outputs": [
    {
     "output_type": "execute_result",
     "data": {
      "text/html": [
       "<div>\n",
       "<style scoped>\n",
       "    .dataframe tbody tr th:only-of-type {\n",
       "        vertical-align: middle;\n",
       "    }\n",
       "\n",
       "    .dataframe tbody tr th {\n",
       "        vertical-align: top;\n",
       "    }\n",
       "\n",
       "    .dataframe thead th {\n",
       "        text-align: right;\n",
       "    }\n",
       "</style>\n",
       "<table border=\"1\" class=\"dataframe\">\n",
       "  <thead>\n",
       "    <tr style=\"text-align: right;\">\n",
       "      <th></th>\n",
       "      <th>0</th>\n",
       "      <th>1</th>\n",
       "      <th>2</th>\n",
       "      <th>3</th>\n",
       "      <th>4</th>\n",
       "      <th>5</th>\n",
       "      <th>6</th>\n",
       "      <th>7</th>\n",
       "      <th>8</th>\n",
       "      <th>9</th>\n",
       "      <th>...</th>\n",
       "      <th>51</th>\n",
       "      <th>52</th>\n",
       "      <th>53</th>\n",
       "      <th>54</th>\n",
       "      <th>55</th>\n",
       "      <th>56</th>\n",
       "      <th>57</th>\n",
       "      <th>58</th>\n",
       "      <th>59</th>\n",
       "      <th>60</th>\n",
       "    </tr>\n",
       "  </thead>\n",
       "  <tbody>\n",
       "    <tr>\n",
       "      <th>0</th>\n",
       "      <td>1038897109</td>\n",
       "      <td>20210411</td>\n",
       "      <td>202104</td>\n",
       "      <td>2021</td>\n",
       "      <td>2021.2767</td>\n",
       "      <td>EDU</td>\n",
       "      <td>SCHOOL</td>\n",
       "      <td>NaN</td>\n",
       "      <td>NaN</td>\n",
       "      <td>NaN</td>\n",
       "      <td>...</td>\n",
       "      <td>1</td>\n",
       "      <td>Jordan</td>\n",
       "      <td>JO</td>\n",
       "      <td>JO</td>\n",
       "      <td>NaN</td>\n",
       "      <td>31.0000</td>\n",
       "      <td>36.0000</td>\n",
       "      <td>JO</td>\n",
       "      <td>20220411231500</td>\n",
       "      <td>https://auburnpub.com/news/local/education/cay...</td>\n",
       "    </tr>\n",
       "    <tr>\n",
       "      <th>1</th>\n",
       "      <td>1038897110</td>\n",
       "      <td>20210411</td>\n",
       "      <td>202104</td>\n",
       "      <td>2021</td>\n",
       "      <td>2021.2767</td>\n",
       "      <td>UAF</td>\n",
       "      <td>FIGHTER</td>\n",
       "      <td>NaN</td>\n",
       "      <td>NaN</td>\n",
       "      <td>NaN</td>\n",
       "      <td>...</td>\n",
       "      <td>0</td>\n",
       "      <td>NaN</td>\n",
       "      <td>NaN</td>\n",
       "      <td>NaN</td>\n",
       "      <td>NaN</td>\n",
       "      <td>NaN</td>\n",
       "      <td>NaN</td>\n",
       "      <td>NaN</td>\n",
       "      <td>20220411231500</td>\n",
       "      <td>https://www.rnz.co.nz/news/national/465117/fau...</td>\n",
       "    </tr>\n",
       "    <tr>\n",
       "      <th>2</th>\n",
       "      <td>1038897111</td>\n",
       "      <td>20210411</td>\n",
       "      <td>202104</td>\n",
       "      <td>2021</td>\n",
       "      <td>2021.2767</td>\n",
       "      <td>UAF</td>\n",
       "      <td>FIGHTER</td>\n",
       "      <td>NaN</td>\n",
       "      <td>NaN</td>\n",
       "      <td>NaN</td>\n",
       "      <td>...</td>\n",
       "      <td>0</td>\n",
       "      <td>NaN</td>\n",
       "      <td>NaN</td>\n",
       "      <td>NaN</td>\n",
       "      <td>NaN</td>\n",
       "      <td>NaN</td>\n",
       "      <td>NaN</td>\n",
       "      <td>NaN</td>\n",
       "      <td>20220411231500</td>\n",
       "      <td>https://www.rnz.co.nz/news/national/465117/fau...</td>\n",
       "    </tr>\n",
       "    <tr>\n",
       "      <th>3</th>\n",
       "      <td>1038897112</td>\n",
       "      <td>20210411</td>\n",
       "      <td>202104</td>\n",
       "      <td>2021</td>\n",
       "      <td>2021.2767</td>\n",
       "      <td>USA</td>\n",
       "      <td>KANSAS CITY</td>\n",
       "      <td>USA</td>\n",
       "      <td>NaN</td>\n",
       "      <td>NaN</td>\n",
       "      <td>...</td>\n",
       "      <td>2</td>\n",
       "      <td>Kansas, United States</td>\n",
       "      <td>US</td>\n",
       "      <td>USKS</td>\n",
       "      <td>NaN</td>\n",
       "      <td>38.5111</td>\n",
       "      <td>-96.8005</td>\n",
       "      <td>KS</td>\n",
       "      <td>20220411231500</td>\n",
       "      <td>https://www.stltoday.com/news/local/govt-and-p...</td>\n",
       "    </tr>\n",
       "    <tr>\n",
       "      <th>4</th>\n",
       "      <td>1038897113</td>\n",
       "      <td>20210411</td>\n",
       "      <td>202104</td>\n",
       "      <td>2021</td>\n",
       "      <td>2021.2767</td>\n",
       "      <td>USA</td>\n",
       "      <td>UNITED STATES</td>\n",
       "      <td>USA</td>\n",
       "      <td>NaN</td>\n",
       "      <td>NaN</td>\n",
       "      <td>...</td>\n",
       "      <td>3</td>\n",
       "      <td>Klamath, California, United States</td>\n",
       "      <td>US</td>\n",
       "      <td>USCA</td>\n",
       "      <td>CA015</td>\n",
       "      <td>41.5265</td>\n",
       "      <td>-124.0380</td>\n",
       "      <td>277534</td>\n",
       "      <td>20220411231500</td>\n",
       "      <td>https://www.lmtonline.com/news/article/Farms-f...</td>\n",
       "    </tr>\n",
       "    <tr>\n",
       "      <th>...</th>\n",
       "      <td>...</td>\n",
       "      <td>...</td>\n",
       "      <td>...</td>\n",
       "      <td>...</td>\n",
       "      <td>...</td>\n",
       "      <td>...</td>\n",
       "      <td>...</td>\n",
       "      <td>...</td>\n",
       "      <td>...</td>\n",
       "      <td>...</td>\n",
       "      <td>...</td>\n",
       "      <td>...</td>\n",
       "      <td>...</td>\n",
       "      <td>...</td>\n",
       "      <td>...</td>\n",
       "      <td>...</td>\n",
       "      <td>...</td>\n",
       "      <td>...</td>\n",
       "      <td>...</td>\n",
       "      <td>...</td>\n",
       "      <td>...</td>\n",
       "    </tr>\n",
       "    <tr>\n",
       "      <th>1004</th>\n",
       "      <td>1038898113</td>\n",
       "      <td>20220411</td>\n",
       "      <td>202204</td>\n",
       "      <td>2022</td>\n",
       "      <td>2022.2767</td>\n",
       "      <td>idg</td>\n",
       "      <td>INDIGENOUS</td>\n",
       "      <td>NaN</td>\n",
       "      <td>NaN</td>\n",
       "      <td>idg</td>\n",
       "      <td>...</td>\n",
       "      <td>4</td>\n",
       "      <td>Moose Factory, Ontario, Canada</td>\n",
       "      <td>CA</td>\n",
       "      <td>CA08</td>\n",
       "      <td>154724</td>\n",
       "      <td>51.2500</td>\n",
       "      <td>-80.6000</td>\n",
       "      <td>-569576</td>\n",
       "      <td>20220411231500</td>\n",
       "      <td>https://www.cbc.ca/news/canada/sudbury/indigen...</td>\n",
       "    </tr>\n",
       "    <tr>\n",
       "      <th>1005</th>\n",
       "      <td>1038898114</td>\n",
       "      <td>20220411</td>\n",
       "      <td>202204</td>\n",
       "      <td>2022</td>\n",
       "      <td>2022.2767</td>\n",
       "      <td>idg</td>\n",
       "      <td>INDIGENOUS</td>\n",
       "      <td>NaN</td>\n",
       "      <td>NaN</td>\n",
       "      <td>idg</td>\n",
       "      <td>...</td>\n",
       "      <td>4</td>\n",
       "      <td>James Bay, Canada (general), Canada</td>\n",
       "      <td>CA</td>\n",
       "      <td>CA00</td>\n",
       "      <td>154724</td>\n",
       "      <td>53.0000</td>\n",
       "      <td>-80.5000</td>\n",
       "      <td>-1506381</td>\n",
       "      <td>20220411231500</td>\n",
       "      <td>https://www.cbc.ca/news/canada/sudbury/indigen...</td>\n",
       "    </tr>\n",
       "    <tr>\n",
       "      <th>1006</th>\n",
       "      <td>1038898115</td>\n",
       "      <td>20220411</td>\n",
       "      <td>202204</td>\n",
       "      <td>2022</td>\n",
       "      <td>2022.2767</td>\n",
       "      <td>ltn</td>\n",
       "      <td>LATINOS</td>\n",
       "      <td>NaN</td>\n",
       "      <td>NaN</td>\n",
       "      <td>ltn</td>\n",
       "      <td>...</td>\n",
       "      <td>2</td>\n",
       "      <td>Texas, United States</td>\n",
       "      <td>US</td>\n",
       "      <td>USTX</td>\n",
       "      <td>NaN</td>\n",
       "      <td>31.1060</td>\n",
       "      <td>-97.6475</td>\n",
       "      <td>TX</td>\n",
       "      <td>20220411231500</td>\n",
       "      <td>http://historynewsnetwork.org/article/182931</td>\n",
       "    </tr>\n",
       "    <tr>\n",
       "      <th>1007</th>\n",
       "      <td>1038898116</td>\n",
       "      <td>20220411</td>\n",
       "      <td>202204</td>\n",
       "      <td>2022</td>\n",
       "      <td>2022.2767</td>\n",
       "      <td>nai</td>\n",
       "      <td>NATIVE AMERICAN</td>\n",
       "      <td>NaN</td>\n",
       "      <td>NaN</td>\n",
       "      <td>nai</td>\n",
       "      <td>...</td>\n",
       "      <td>2</td>\n",
       "      <td>New York, United States</td>\n",
       "      <td>US</td>\n",
       "      <td>USNY</td>\n",
       "      <td>NaN</td>\n",
       "      <td>42.1497</td>\n",
       "      <td>-74.9384</td>\n",
       "      <td>NY</td>\n",
       "      <td>20220411231500</td>\n",
       "      <td>https://www.longisland.com/news/04-11-22/long-...</td>\n",
       "    </tr>\n",
       "    <tr>\n",
       "      <th>1008</th>\n",
       "      <td>1038898117</td>\n",
       "      <td>20220411</td>\n",
       "      <td>202204</td>\n",
       "      <td>2022</td>\n",
       "      <td>2022.2767</td>\n",
       "      <td>tli</td>\n",
       "      <td>TLINGIT</td>\n",
       "      <td>NaN</td>\n",
       "      <td>NaN</td>\n",
       "      <td>tli</td>\n",
       "      <td>...</td>\n",
       "      <td>4</td>\n",
       "      <td>Atlin, British Columbia, Canada</td>\n",
       "      <td>CA</td>\n",
       "      <td>CA02</td>\n",
       "      <td>12564</td>\n",
       "      <td>59.5833</td>\n",
       "      <td>-133.7170</td>\n",
       "      <td>-560407</td>\n",
       "      <td>20220411231500</td>\n",
       "      <td>https://www.cbc.ca/news/canada/north/federal-f...</td>\n",
       "    </tr>\n",
       "  </tbody>\n",
       "</table>\n",
       "<p>1009 rows × 61 columns</p>\n",
       "</div>"
      ],
      "text/plain": [
       "              0         1       2     3          4    5                6   \\\n",
       "0     1038897109  20210411  202104  2021  2021.2767  EDU           SCHOOL   \n",
       "1     1038897110  20210411  202104  2021  2021.2767  UAF          FIGHTER   \n",
       "2     1038897111  20210411  202104  2021  2021.2767  UAF          FIGHTER   \n",
       "3     1038897112  20210411  202104  2021  2021.2767  USA      KANSAS CITY   \n",
       "4     1038897113  20210411  202104  2021  2021.2767  USA    UNITED STATES   \n",
       "...          ...       ...     ...   ...        ...  ...              ...   \n",
       "1004  1038898113  20220411  202204  2022  2022.2767  idg       INDIGENOUS   \n",
       "1005  1038898114  20220411  202204  2022  2022.2767  idg       INDIGENOUS   \n",
       "1006  1038898115  20220411  202204  2022  2022.2767  ltn          LATINOS   \n",
       "1007  1038898116  20220411  202204  2022  2022.2767  nai  NATIVE AMERICAN   \n",
       "1008  1038898117  20220411  202204  2022  2022.2767  tli          TLINGIT   \n",
       "\n",
       "       7    8    9   ... 51                                   52   53    54  \\\n",
       "0     NaN  NaN  NaN  ...  1                               Jordan   JO    JO   \n",
       "1     NaN  NaN  NaN  ...  0                                  NaN  NaN   NaN   \n",
       "2     NaN  NaN  NaN  ...  0                                  NaN  NaN   NaN   \n",
       "3     USA  NaN  NaN  ...  2                Kansas, United States   US  USKS   \n",
       "4     USA  NaN  NaN  ...  3   Klamath, California, United States   US  USCA   \n",
       "...   ...  ...  ...  ... ..                                  ...  ...   ...   \n",
       "1004  NaN  NaN  idg  ...  4       Moose Factory, Ontario, Canada   CA  CA08   \n",
       "1005  NaN  NaN  idg  ...  4  James Bay, Canada (general), Canada   CA  CA00   \n",
       "1006  NaN  NaN  ltn  ...  2                 Texas, United States   US  USTX   \n",
       "1007  NaN  NaN  nai  ...  2              New York, United States   US  USNY   \n",
       "1008  NaN  NaN  tli  ...  4      Atlin, British Columbia, Canada   CA  CA02   \n",
       "\n",
       "          55       56        57        58              59  \\\n",
       "0        NaN  31.0000   36.0000        JO  20220411231500   \n",
       "1        NaN      NaN       NaN       NaN  20220411231500   \n",
       "2        NaN      NaN       NaN       NaN  20220411231500   \n",
       "3        NaN  38.5111  -96.8005        KS  20220411231500   \n",
       "4      CA015  41.5265 -124.0380    277534  20220411231500   \n",
       "...      ...      ...       ...       ...             ...   \n",
       "1004  154724  51.2500  -80.6000   -569576  20220411231500   \n",
       "1005  154724  53.0000  -80.5000  -1506381  20220411231500   \n",
       "1006     NaN  31.1060  -97.6475        TX  20220411231500   \n",
       "1007     NaN  42.1497  -74.9384        NY  20220411231500   \n",
       "1008   12564  59.5833 -133.7170   -560407  20220411231500   \n",
       "\n",
       "                                                     60  \n",
       "0     https://auburnpub.com/news/local/education/cay...  \n",
       "1     https://www.rnz.co.nz/news/national/465117/fau...  \n",
       "2     https://www.rnz.co.nz/news/national/465117/fau...  \n",
       "3     https://www.stltoday.com/news/local/govt-and-p...  \n",
       "4     https://www.lmtonline.com/news/article/Farms-f...  \n",
       "...                                                 ...  \n",
       "1004  https://www.cbc.ca/news/canada/sudbury/indigen...  \n",
       "1005  https://www.cbc.ca/news/canada/sudbury/indigen...  \n",
       "1006       http://historynewsnetwork.org/article/182931  \n",
       "1007  https://www.longisland.com/news/04-11-22/long-...  \n",
       "1008  https://www.cbc.ca/news/canada/north/federal-f...  \n",
       "\n",
       "[1009 rows x 61 columns]"
      ]
     },
     "metadata": {},
     "execution_count": 25
    }
   ],
   "metadata": {}
  },
  {
   "cell_type": "code",
   "execution_count": null,
   "source": [],
   "outputs": [],
   "metadata": {}
  }
 ],
 "metadata": {
  "orig_nbformat": 4,
  "language_info": {
   "name": "python",
   "version": "3.7.13",
   "mimetype": "text/x-python",
   "codemirror_mode": {
    "name": "ipython",
    "version": 3
   },
   "pygments_lexer": "ipython3",
   "nbconvert_exporter": "python",
   "file_extension": ".py"
  },
  "kernelspec": {
   "name": "python3",
   "display_name": "Python 3.7.13 64-bit ('group_practical': conda)"
  },
  "interpreter": {
   "hash": "3abe2fc45ef8f7b9c9ffb4b5ab4d4a0cc498ff560b26e636219f492286e85227"
  }
 },
 "nbformat": 4,
 "nbformat_minor": 2
}