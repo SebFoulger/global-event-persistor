{
 "cells": [
  {
   "cell_type": "code",
   "execution_count": null,
   "source": [
    "import spacy\n",
    "import pandas as pd\n",
    "import numpy as np\n",
    "from newsplease import NewsPlease"
   ],
   "outputs": [],
   "metadata": {}
  },
  {
   "cell_type": "code",
   "execution_count": null,
   "source": [
    "from sklearn.feature_extraction.text import TfidfVectorizer\n",
    "from sklearn.model_selection import StratifiedKFold\n",
    "from sklearn.metrics import accuracy_score\n",
    "from sklearn.linear_model import RidgeClassifier\n",
    "from sklearn.pipeline import Pipeline\n",
    "from sklearn.svm import SVC"
   ],
   "outputs": [],
   "metadata": {}
  },
  {
   "cell_type": "code",
   "execution_count": null,
   "source": [
    "df = pd.read_csv(\"/home/felipenuti/Downloads/bbc_news_classification/bbc-news-data.csv\", sep = '\\t') "
   ],
   "outputs": [],
   "metadata": {}
  },
  {
   "cell_type": "code",
   "execution_count": null,
   "source": [
    "categories = pd.Categorical(df['category'])\n",
    "df['code'] = categories.codes"
   ],
   "outputs": [],
   "metadata": {}
  },
  {
   "cell_type": "code",
   "execution_count": null,
   "source": [
    "code_to_cat = {code: df[df['code'] == code]['category'].unique()[0] for code in range(5)}\n",
    "code_to_cat\n"
   ],
   "outputs": [
    {
     "output_type": "execute_result",
     "data": {
      "text/plain": [
       "{0: 'business', 1: 'entertainment', 2: 'politics', 3: 'sport', 4: 'tech'}"
      ]
     },
     "metadata": {},
     "execution_count": 157
    }
   ],
   "metadata": {}
  },
  {
   "cell_type": "code",
   "execution_count": null,
   "source": [
    "df.head(3)"
   ],
   "outputs": [
    {
     "output_type": "execute_result",
     "data": {
      "text/html": [
       "<div>\n",
       "<style scoped>\n",
       "    .dataframe tbody tr th:only-of-type {\n",
       "        vertical-align: middle;\n",
       "    }\n",
       "\n",
       "    .dataframe tbody tr th {\n",
       "        vertical-align: top;\n",
       "    }\n",
       "\n",
       "    .dataframe thead th {\n",
       "        text-align: right;\n",
       "    }\n",
       "</style>\n",
       "<table border=\"1\" class=\"dataframe\">\n",
       "  <thead>\n",
       "    <tr style=\"text-align: right;\">\n",
       "      <th></th>\n",
       "      <th>category</th>\n",
       "      <th>filename</th>\n",
       "      <th>title</th>\n",
       "      <th>content</th>\n",
       "      <th>code</th>\n",
       "    </tr>\n",
       "  </thead>\n",
       "  <tbody>\n",
       "    <tr>\n",
       "      <th>0</th>\n",
       "      <td>business</td>\n",
       "      <td>001.txt</td>\n",
       "      <td>Ad sales boost Time Warner profit</td>\n",
       "      <td>Quarterly profits at US media giant TimeWarne...</td>\n",
       "      <td>0</td>\n",
       "    </tr>\n",
       "    <tr>\n",
       "      <th>1</th>\n",
       "      <td>business</td>\n",
       "      <td>002.txt</td>\n",
       "      <td>Dollar gains on Greenspan speech</td>\n",
       "      <td>The dollar has hit its highest level against ...</td>\n",
       "      <td>0</td>\n",
       "    </tr>\n",
       "    <tr>\n",
       "      <th>2</th>\n",
       "      <td>business</td>\n",
       "      <td>003.txt</td>\n",
       "      <td>Yukos unit buyer faces loan claim</td>\n",
       "      <td>The owners of embattled Russian oil giant Yuk...</td>\n",
       "      <td>0</td>\n",
       "    </tr>\n",
       "  </tbody>\n",
       "</table>\n",
       "</div>"
      ],
      "text/plain": [
       "   category filename                              title  \\\n",
       "0  business  001.txt  Ad sales boost Time Warner profit   \n",
       "1  business  002.txt   Dollar gains on Greenspan speech   \n",
       "2  business  003.txt  Yukos unit buyer faces loan claim   \n",
       "\n",
       "                                             content  code  \n",
       "0   Quarterly profits at US media giant TimeWarne...     0  \n",
       "1   The dollar has hit its highest level against ...     0  \n",
       "2   The owners of embattled Russian oil giant Yuk...     0  "
      ]
     },
     "metadata": {},
     "execution_count": 101
    }
   ],
   "metadata": {}
  },
  {
   "cell_type": "code",
   "execution_count": null,
   "source": [
    "skf = StratifiedKFold(n_splits = 5, shuffle = True)"
   ],
   "outputs": [],
   "metadata": {}
  },
  {
   "cell_type": "code",
   "execution_count": null,
   "source": [
    "def test_model(estimator, model_name, folds):\n",
    "    global df\n",
    "    train_acc = []\n",
    "    test_acc = []\n",
    "\n",
    "    for fold, (train_idx, test_idx) in enumerate(folds):\n",
    "        train_df = df.loc[train_idx, :].reset_index(drop = True)\n",
    "        test_df = df.loc[test_idx, :].reset_index(drop = True)\n",
    "\n",
    "        vectorizer = TfidfVectorizer(sublinear_tf=True, min_df=5, norm='l2', encoding='latin-1', ngram_range=(1, 5), stop_words='english')\n",
    "\n",
    "        X_train = vectorizer.fit_transform(train_df['content'])\n",
    "        X_test = vectorizer.transform(test_df['content'])\n",
    "\n",
    "        y_train = train_df['code'] #pd.get_dummies(train_df['code']).values\n",
    "        y_test = test_df['code'] #pd.get_dummies(test_df['code']).values\n",
    "\n",
    "        estimator.fit(X_train, y_train)\n",
    "\n",
    "        y_hat_train = estimator.predict(X_train)\n",
    "        y_hat_test = estimator.predict(X_test)\n",
    "\n",
    "        #print(y_train)\n",
    "        #print(y_hat_train)\n",
    "\n",
    "        train_acc.append(accuracy_score(y_train, y_hat_train))\n",
    "        test_acc.append(accuracy_score(y_test, y_hat_test))\n",
    "\n",
    "        print(\"Fold {} - {}\".format(fold, model_name))\n",
    "        print(f\"\\tTrain: {train_acc[-1]}\\tTest: {test_acc[-1]}\")\n",
    "\n",
    "\n"
   ],
   "outputs": [],
   "metadata": {}
  },
  {
   "cell_type": "code",
   "execution_count": null,
   "source": [
    "def train_model(estimator, vectorizer):\n",
    "    global df\n",
    "\n",
    "    X_train = vectorizer.fit_transform(df['content'])\n",
    "\n",
    "    y_train = df['code']\n",
    "\n",
    "    estimator.fit(X_train, y_train)\n",
    "\n",
    "    y_hat_train = estimator.predict(X_train)\n",
    "\n",
    "    #print(y_train)\n",
    "    #print(y_hat_train)\n",
    "\n",
    "    acc = accuracy_score(y_train, y_hat_train)\n",
    "    print(acc)"
   ],
   "outputs": [],
   "metadata": {}
  },
  {
   "cell_type": "code",
   "execution_count": null,
   "source": [
    "test_model(RidgeClassifier(), \"RidgeClassifier\", skf.split(df.index, df.code))"
   ],
   "outputs": [
    {
     "output_type": "stream",
     "name": "stdout",
     "text": [
      "Fold 0 - RidgeClassifier\n",
      "\tTrain: 1.0\n",
      "\tTest: 0.9887640449438202\n",
      "Fold 1 - RidgeClassifier\n",
      "\tTrain: 1.0\n",
      "\tTest: 0.9910112359550561\n",
      "Fold 2 - RidgeClassifier\n",
      "\tTrain: 1.0\n",
      "\tTest: 0.9797752808988764\n",
      "Fold 3 - RidgeClassifier\n",
      "\tTrain: 1.0\n",
      "\tTest: 0.9797752808988764\n",
      "Fold 4 - RidgeClassifier\n",
      "\tTrain: 1.0\n",
      "\tTest: 0.9842696629213483\n"
     ]
    }
   ],
   "metadata": {}
  },
  {
   "cell_type": "code",
   "execution_count": null,
   "source": [
    "# test_model(SVC(), \"SVC\", skf.split(df.index, df.code))"
   ],
   "outputs": [
    {
     "output_type": "stream",
     "name": "stdout",
     "text": [
      "Fold 0 - SVC\n",
      "\tTrain: 1.0\tTest: 0.9730337078651685\n",
      "Fold 1 - SVC\n",
      "\tTrain: 1.0\tTest: 0.9932584269662922\n",
      "Fold 2 - SVC\n",
      "\tTrain: 1.0\tTest: 0.9887640449438202\n",
      "Fold 3 - SVC\n",
      "\tTrain: 1.0\tTest: 0.9775280898876404\n",
      "Fold 4 - SVC\n",
      "\tTrain: 1.0\tTest: 0.9820224719101124\n"
     ]
    }
   ],
   "metadata": {}
  },
  {
   "cell_type": "code",
   "execution_count": null,
   "source": [
    "ridgeClassifier = RidgeClassifier()\n",
    "vectorizer = TfidfVectorizer(sublinear_tf=True, min_df=5, norm='l2', encoding='latin-1', ngram_range=(1, 5), stop_words='english')\n",
    "train_model(ridgeClassifier, vectorizer)\n",
    "pipe = Pipeline([\n",
    "    ('vectorizer', vectorizer),\n",
    "    ('ridge classifier', ridgeClassifier)\n",
    "])"
   ],
   "outputs": [
    {
     "output_type": "stream",
     "name": "stdout",
     "text": [
      "1.0\n"
     ]
    }
   ],
   "metadata": {}
  },
  {
   "cell_type": "code",
   "execution_count": null,
   "source": [
    "gdelt_data = pd.read_csv(\"~/Downloads/20220411231500.export.CSV\", sep = '\\t', header=None)"
   ],
   "outputs": [],
   "metadata": {}
  },
  {
   "cell_type": "code",
   "execution_count": null,
   "source": [
    "gdelt_links = gdelt_data[60]"
   ],
   "outputs": [],
   "metadata": {}
  },
  {
   "cell_type": "code",
   "execution_count": null,
   "source": [
    "import unidecode\n",
    "import requests"
   ],
   "outputs": [],
   "metadata": {}
  },
  {
   "cell_type": "code",
   "execution_count": null,
   "source": [
    "# Get sentiment from BERT model\n",
    "def prepare_text(text):\n",
    "    return unidecode.unidecode(text.strip())\n",
    "\n",
    "def get_category(texts, url = 'http://127.0.0.1:8080/news-classification'):\n",
    "    js = { 'texts': texts }\n",
    "    res = requests.post(url, json = js)\n",
    "    return res.json()['ans']\n",
    "\n",
    "def get_tweet_sentiment(tweet):\n",
    "    sent = get_category(tweet['text'])\n",
    "    return sent"
   ],
   "outputs": [],
   "metadata": {}
  },
  {
   "cell_type": "code",
   "execution_count": null,
   "source": [
    "i = np.random.randint(gdelt_links.size)\n",
    "link = gdelt_links[i]\n",
    "news = NewsPlease.from_url(link)\n",
    "js = news.get_dict()\n",
    "if 'maintext' in js.keys():\n",
    "    pred = get_category([js['title']]) # pipe.predict([js['maintext']])[0]\n",
    "    js['category'] = pred #code_to_cat[pred]\n",
    "    print(js['title'])\n",
    "    print(js['maintext'][:100])\n",
    "    print(js['category'])"
   ],
   "outputs": [
    {
     "output_type": "stream",
     "name": "stderr",
     "text": [
      "/home/felipenuti/miniconda3/envs/group_practical/lib/python3.7/site-packages/urllib3/connectionpool.py:1050: InsecureRequestWarning: Unverified HTTPS request is being made to host 'www.wunc.org'. Adding certificate verification is strongly advised. See: https://urllib3.readthedocs.io/en/1.26.x/advanced-usage.html#ssl-warnings\n",
      "  InsecureRequestWarning,\n"
     ]
    },
    {
     "output_type": "stream",
     "name": "stdout",
     "text": [
      "North Carolina’s experimental school takeover program is officially ending this summer\n",
      "The State Board of Education has voted to transfer a public school taken over by the state back to i\n",
      "[{'classes': {'Business': 0.6974193453788757, 'Sci/Tech': 0.2717726230621338, 'Sports': 0.0036270355340093374, 'World': 0.027180952951312065}, 'text': 'North Carolina’s experimental school takeover program is officially ending this summer', 'vec': [0.027180952951312065, 0.0036270355340093374, 0.6974193453788757, 0.2717726230621338]}]\n"
     ]
    }
   ],
   "metadata": {}
  },
  {
   "cell_type": "code",
   "execution_count": null,
   "source": [
    "titles = NewsPlease.from_urls(gdelt_links.tolist())"
   ],
   "outputs": [],
   "metadata": {}
  },
  {
   "cell_type": "code",
   "execution_count": null,
   "source": [],
   "outputs": [],
   "metadata": {}
  }
 ],
 "metadata": {
  "orig_nbformat": 4,
  "language_info": {
   "name": "python",
   "version": "3.7.13",
   "mimetype": "text/x-python",
   "codemirror_mode": {
    "name": "ipython",
    "version": 3
   },
   "pygments_lexer": "ipython3",
   "nbconvert_exporter": "python",
   "file_extension": ".py"
  },
  "kernelspec": {
   "name": "python3",
   "display_name": "Python 3.7.13 64-bit ('group_practical': conda)"
  },
  "interpreter": {
   "hash": "3abe2fc45ef8f7b9c9ffb4b5ab4d4a0cc498ff560b26e636219f492286e85227"
  }
 },
 "nbformat": 4,
 "nbformat_minor": 2
}